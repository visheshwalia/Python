{
 "cells": [
  {
   "cell_type": "code",
   "execution_count": 3,
   "metadata": {},
   "outputs": [],
   "source": [
    "import pandas as pd\n",
    "import numpy as np"
   ]
  },
  {
   "cell_type": "code",
   "execution_count": 4,
   "metadata": {},
   "outputs": [],
   "source": [
    "train = pd.read_csv(r'Downloads/train_LZdllcl.csv')\n",
    "test = pd.read_csv(r'Downloads/test_2umaH9m.csv')"
   ]
  },
  {
   "cell_type": "code",
   "execution_count": 5,
   "metadata": {},
   "outputs": [
    {
     "data": {
      "text/html": [
       "<div>\n",
       "<style scoped>\n",
       "    .dataframe tbody tr th:only-of-type {\n",
       "        vertical-align: middle;\n",
       "    }\n",
       "\n",
       "    .dataframe tbody tr th {\n",
       "        vertical-align: top;\n",
       "    }\n",
       "\n",
       "    .dataframe thead th {\n",
       "        text-align: right;\n",
       "    }\n",
       "</style>\n",
       "<table border=\"1\" class=\"dataframe\">\n",
       "  <thead>\n",
       "    <tr style=\"text-align: right;\">\n",
       "      <th></th>\n",
       "      <th>employee_id</th>\n",
       "      <th>department</th>\n",
       "      <th>region</th>\n",
       "      <th>education</th>\n",
       "      <th>gender</th>\n",
       "      <th>recruitment_channel</th>\n",
       "      <th>no_of_trainings</th>\n",
       "      <th>age</th>\n",
       "      <th>previous_year_rating</th>\n",
       "      <th>length_of_service</th>\n",
       "      <th>KPIs_met &gt;80%</th>\n",
       "      <th>awards_won?</th>\n",
       "      <th>avg_training_score</th>\n",
       "      <th>is_promoted</th>\n",
       "    </tr>\n",
       "  </thead>\n",
       "  <tbody>\n",
       "    <tr>\n",
       "      <th>0</th>\n",
       "      <td>65438</td>\n",
       "      <td>Sales &amp; Marketing</td>\n",
       "      <td>region_7</td>\n",
       "      <td>Master's &amp; above</td>\n",
       "      <td>f</td>\n",
       "      <td>sourcing</td>\n",
       "      <td>1</td>\n",
       "      <td>35</td>\n",
       "      <td>5.0</td>\n",
       "      <td>8</td>\n",
       "      <td>1</td>\n",
       "      <td>0</td>\n",
       "      <td>49</td>\n",
       "      <td>0</td>\n",
       "    </tr>\n",
       "    <tr>\n",
       "      <th>1</th>\n",
       "      <td>65141</td>\n",
       "      <td>Operations</td>\n",
       "      <td>region_22</td>\n",
       "      <td>Bachelor's</td>\n",
       "      <td>m</td>\n",
       "      <td>other</td>\n",
       "      <td>1</td>\n",
       "      <td>30</td>\n",
       "      <td>5.0</td>\n",
       "      <td>4</td>\n",
       "      <td>0</td>\n",
       "      <td>0</td>\n",
       "      <td>60</td>\n",
       "      <td>0</td>\n",
       "    </tr>\n",
       "    <tr>\n",
       "      <th>2</th>\n",
       "      <td>7513</td>\n",
       "      <td>Sales &amp; Marketing</td>\n",
       "      <td>region_19</td>\n",
       "      <td>Bachelor's</td>\n",
       "      <td>m</td>\n",
       "      <td>sourcing</td>\n",
       "      <td>1</td>\n",
       "      <td>34</td>\n",
       "      <td>3.0</td>\n",
       "      <td>7</td>\n",
       "      <td>0</td>\n",
       "      <td>0</td>\n",
       "      <td>50</td>\n",
       "      <td>0</td>\n",
       "    </tr>\n",
       "    <tr>\n",
       "      <th>3</th>\n",
       "      <td>2542</td>\n",
       "      <td>Sales &amp; Marketing</td>\n",
       "      <td>region_23</td>\n",
       "      <td>Bachelor's</td>\n",
       "      <td>m</td>\n",
       "      <td>other</td>\n",
       "      <td>2</td>\n",
       "      <td>39</td>\n",
       "      <td>1.0</td>\n",
       "      <td>10</td>\n",
       "      <td>0</td>\n",
       "      <td>0</td>\n",
       "      <td>50</td>\n",
       "      <td>0</td>\n",
       "    </tr>\n",
       "    <tr>\n",
       "      <th>4</th>\n",
       "      <td>48945</td>\n",
       "      <td>Technology</td>\n",
       "      <td>region_26</td>\n",
       "      <td>Bachelor's</td>\n",
       "      <td>m</td>\n",
       "      <td>other</td>\n",
       "      <td>1</td>\n",
       "      <td>45</td>\n",
       "      <td>3.0</td>\n",
       "      <td>2</td>\n",
       "      <td>0</td>\n",
       "      <td>0</td>\n",
       "      <td>73</td>\n",
       "      <td>0</td>\n",
       "    </tr>\n",
       "  </tbody>\n",
       "</table>\n",
       "</div>"
      ],
      "text/plain": [
       "   employee_id         department     region         education gender  \\\n",
       "0        65438  Sales & Marketing   region_7  Master's & above      f   \n",
       "1        65141         Operations  region_22        Bachelor's      m   \n",
       "2         7513  Sales & Marketing  region_19        Bachelor's      m   \n",
       "3         2542  Sales & Marketing  region_23        Bachelor's      m   \n",
       "4        48945         Technology  region_26        Bachelor's      m   \n",
       "\n",
       "  recruitment_channel  no_of_trainings  age  previous_year_rating  \\\n",
       "0            sourcing                1   35                   5.0   \n",
       "1               other                1   30                   5.0   \n",
       "2            sourcing                1   34                   3.0   \n",
       "3               other                2   39                   1.0   \n",
       "4               other                1   45                   3.0   \n",
       "\n",
       "   length_of_service  KPIs_met >80%  awards_won?  avg_training_score  \\\n",
       "0                  8              1            0                  49   \n",
       "1                  4              0            0                  60   \n",
       "2                  7              0            0                  50   \n",
       "3                 10              0            0                  50   \n",
       "4                  2              0            0                  73   \n",
       "\n",
       "   is_promoted  \n",
       "0            0  \n",
       "1            0  \n",
       "2            0  \n",
       "3            0  \n",
       "4            0  "
      ]
     },
     "execution_count": 5,
     "metadata": {},
     "output_type": "execute_result"
    }
   ],
   "source": [
    "train.head()"
   ]
  },
  {
   "cell_type": "code",
   "execution_count": 6,
   "metadata": {},
   "outputs": [
    {
     "data": {
      "text/html": [
       "<div>\n",
       "<style scoped>\n",
       "    .dataframe tbody tr th:only-of-type {\n",
       "        vertical-align: middle;\n",
       "    }\n",
       "\n",
       "    .dataframe tbody tr th {\n",
       "        vertical-align: top;\n",
       "    }\n",
       "\n",
       "    .dataframe thead th {\n",
       "        text-align: right;\n",
       "    }\n",
       "</style>\n",
       "<table border=\"1\" class=\"dataframe\">\n",
       "  <thead>\n",
       "    <tr style=\"text-align: right;\">\n",
       "      <th></th>\n",
       "      <th>employee_id</th>\n",
       "      <th>department</th>\n",
       "      <th>region</th>\n",
       "      <th>education</th>\n",
       "      <th>gender</th>\n",
       "      <th>recruitment_channel</th>\n",
       "      <th>no_of_trainings</th>\n",
       "      <th>age</th>\n",
       "      <th>previous_year_rating</th>\n",
       "      <th>length_of_service</th>\n",
       "      <th>KPIs_met &gt;80%</th>\n",
       "      <th>awards_won?</th>\n",
       "      <th>avg_training_score</th>\n",
       "    </tr>\n",
       "  </thead>\n",
       "  <tbody>\n",
       "    <tr>\n",
       "      <th>0</th>\n",
       "      <td>8724</td>\n",
       "      <td>Technology</td>\n",
       "      <td>region_26</td>\n",
       "      <td>Bachelor's</td>\n",
       "      <td>m</td>\n",
       "      <td>sourcing</td>\n",
       "      <td>1</td>\n",
       "      <td>24</td>\n",
       "      <td>NaN</td>\n",
       "      <td>1</td>\n",
       "      <td>1</td>\n",
       "      <td>0</td>\n",
       "      <td>77</td>\n",
       "    </tr>\n",
       "    <tr>\n",
       "      <th>1</th>\n",
       "      <td>74430</td>\n",
       "      <td>HR</td>\n",
       "      <td>region_4</td>\n",
       "      <td>Bachelor's</td>\n",
       "      <td>f</td>\n",
       "      <td>other</td>\n",
       "      <td>1</td>\n",
       "      <td>31</td>\n",
       "      <td>3.0</td>\n",
       "      <td>5</td>\n",
       "      <td>0</td>\n",
       "      <td>0</td>\n",
       "      <td>51</td>\n",
       "    </tr>\n",
       "    <tr>\n",
       "      <th>2</th>\n",
       "      <td>72255</td>\n",
       "      <td>Sales &amp; Marketing</td>\n",
       "      <td>region_13</td>\n",
       "      <td>Bachelor's</td>\n",
       "      <td>m</td>\n",
       "      <td>other</td>\n",
       "      <td>1</td>\n",
       "      <td>31</td>\n",
       "      <td>1.0</td>\n",
       "      <td>4</td>\n",
       "      <td>0</td>\n",
       "      <td>0</td>\n",
       "      <td>47</td>\n",
       "    </tr>\n",
       "    <tr>\n",
       "      <th>3</th>\n",
       "      <td>38562</td>\n",
       "      <td>Procurement</td>\n",
       "      <td>region_2</td>\n",
       "      <td>Bachelor's</td>\n",
       "      <td>f</td>\n",
       "      <td>other</td>\n",
       "      <td>3</td>\n",
       "      <td>31</td>\n",
       "      <td>2.0</td>\n",
       "      <td>9</td>\n",
       "      <td>0</td>\n",
       "      <td>0</td>\n",
       "      <td>65</td>\n",
       "    </tr>\n",
       "    <tr>\n",
       "      <th>4</th>\n",
       "      <td>64486</td>\n",
       "      <td>Finance</td>\n",
       "      <td>region_29</td>\n",
       "      <td>Bachelor's</td>\n",
       "      <td>m</td>\n",
       "      <td>sourcing</td>\n",
       "      <td>1</td>\n",
       "      <td>30</td>\n",
       "      <td>4.0</td>\n",
       "      <td>7</td>\n",
       "      <td>0</td>\n",
       "      <td>0</td>\n",
       "      <td>61</td>\n",
       "    </tr>\n",
       "  </tbody>\n",
       "</table>\n",
       "</div>"
      ],
      "text/plain": [
       "   employee_id         department     region   education gender  \\\n",
       "0         8724         Technology  region_26  Bachelor's      m   \n",
       "1        74430                 HR   region_4  Bachelor's      f   \n",
       "2        72255  Sales & Marketing  region_13  Bachelor's      m   \n",
       "3        38562        Procurement   region_2  Bachelor's      f   \n",
       "4        64486            Finance  region_29  Bachelor's      m   \n",
       "\n",
       "  recruitment_channel  no_of_trainings  age  previous_year_rating  \\\n",
       "0            sourcing                1   24                   NaN   \n",
       "1               other                1   31                   3.0   \n",
       "2               other                1   31                   1.0   \n",
       "3               other                3   31                   2.0   \n",
       "4            sourcing                1   30                   4.0   \n",
       "\n",
       "   length_of_service  KPIs_met >80%  awards_won?  avg_training_score  \n",
       "0                  1              1            0                  77  \n",
       "1                  5              0            0                  51  \n",
       "2                  4              0            0                  47  \n",
       "3                  9              0            0                  65  \n",
       "4                  7              0            0                  61  "
      ]
     },
     "execution_count": 6,
     "metadata": {},
     "output_type": "execute_result"
    }
   ],
   "source": [
    "test.head()"
   ]
  },
  {
   "cell_type": "code",
   "execution_count": 7,
   "metadata": {},
   "outputs": [
    {
     "name": "stdout",
     "output_type": "stream",
     "text": [
      "<class 'pandas.core.frame.DataFrame'>\n",
      "RangeIndex: 54808 entries, 0 to 54807\n",
      "Data columns (total 14 columns):\n",
      "employee_id             54808 non-null int64\n",
      "department              54808 non-null object\n",
      "region                  54808 non-null object\n",
      "education               52399 non-null object\n",
      "gender                  54808 non-null object\n",
      "recruitment_channel     54808 non-null object\n",
      "no_of_trainings         54808 non-null int64\n",
      "age                     54808 non-null int64\n",
      "previous_year_rating    50684 non-null float64\n",
      "length_of_service       54808 non-null int64\n",
      "KPIs_met >80%           54808 non-null int64\n",
      "awards_won?             54808 non-null int64\n",
      "avg_training_score      54808 non-null int64\n",
      "is_promoted             54808 non-null int64\n",
      "dtypes: float64(1), int64(8), object(5)\n",
      "memory usage: 5.9+ MB\n"
     ]
    }
   ],
   "source": [
    "train.info()"
   ]
  },
  {
   "cell_type": "code",
   "execution_count": 8,
   "metadata": {},
   "outputs": [
    {
     "name": "stdout",
     "output_type": "stream",
     "text": [
      "<class 'pandas.core.frame.DataFrame'>\n",
      "RangeIndex: 23490 entries, 0 to 23489\n",
      "Data columns (total 13 columns):\n",
      "employee_id             23490 non-null int64\n",
      "department              23490 non-null object\n",
      "region                  23490 non-null object\n",
      "education               22456 non-null object\n",
      "gender                  23490 non-null object\n",
      "recruitment_channel     23490 non-null object\n",
      "no_of_trainings         23490 non-null int64\n",
      "age                     23490 non-null int64\n",
      "previous_year_rating    21678 non-null float64\n",
      "length_of_service       23490 non-null int64\n",
      "KPIs_met >80%           23490 non-null int64\n",
      "awards_won?             23490 non-null int64\n",
      "avg_training_score      23490 non-null int64\n",
      "dtypes: float64(1), int64(7), object(5)\n",
      "memory usage: 2.3+ MB\n"
     ]
    }
   ],
   "source": [
    "test.info()"
   ]
  },
  {
   "cell_type": "code",
   "execution_count": 9,
   "metadata": {},
   "outputs": [],
   "source": [
    "def check(df1, df2):\n",
    "    l = []\n",
    "    df1 = df1.select_dtypes(include = [object])\n",
    "    df2 = df2.select_dtypes(include = [object])\n",
    "    for c in df1.columns:\n",
    "        if(c in df2.columns):\n",
    "            if sorted(df1[c].dropna().unique()) != sorted(df2[c].dropna().unique()):\n",
    "                l.append(c)\n",
    "    return l\n",
    "    "
   ]
  },
  {
   "cell_type": "code",
   "execution_count": 10,
   "metadata": {},
   "outputs": [
    {
     "data": {
      "text/plain": [
       "employee_id                0\n",
       "department                 0\n",
       "region                     0\n",
       "education               2409\n",
       "gender                     0\n",
       "recruitment_channel        0\n",
       "no_of_trainings            0\n",
       "age                        0\n",
       "previous_year_rating    4124\n",
       "length_of_service          0\n",
       "KPIs_met >80%              0\n",
       "awards_won?                0\n",
       "avg_training_score         0\n",
       "is_promoted                0\n",
       "dtype: int64"
      ]
     },
     "execution_count": 10,
     "metadata": {},
     "output_type": "execute_result"
    }
   ],
   "source": [
    "train.isnull().sum()"
   ]
  },
  {
   "cell_type": "code",
   "execution_count": 11,
   "metadata": {},
   "outputs": [
    {
     "data": {
      "text/plain": [
       "employee_id                0\n",
       "department                 0\n",
       "region                     0\n",
       "education               1034\n",
       "gender                     0\n",
       "recruitment_channel        0\n",
       "no_of_trainings            0\n",
       "age                        0\n",
       "previous_year_rating    1812\n",
       "length_of_service          0\n",
       "KPIs_met >80%              0\n",
       "awards_won?                0\n",
       "avg_training_score         0\n",
       "dtype: int64"
      ]
     },
     "execution_count": 11,
     "metadata": {},
     "output_type": "execute_result"
    }
   ],
   "source": [
    "test.isnull().sum()"
   ]
  },
  {
   "cell_type": "code",
   "execution_count": 12,
   "metadata": {},
   "outputs": [
    {
     "data": {
      "text/plain": [
       "0    50140\n",
       "1     4668\n",
       "Name: is_promoted, dtype: int64"
      ]
     },
     "execution_count": 12,
     "metadata": {},
     "output_type": "execute_result"
    }
   ],
   "source": [
    "train.is_promoted.value_counts()"
   ]
  },
  {
   "cell_type": "code",
   "execution_count": 13,
   "metadata": {},
   "outputs": [
    {
     "data": {
      "text/html": [
       "<div>\n",
       "<style scoped>\n",
       "    .dataframe tbody tr th:only-of-type {\n",
       "        vertical-align: middle;\n",
       "    }\n",
       "\n",
       "    .dataframe tbody tr th {\n",
       "        vertical-align: top;\n",
       "    }\n",
       "\n",
       "    .dataframe thead th {\n",
       "        text-align: right;\n",
       "    }\n",
       "</style>\n",
       "<table border=\"1\" class=\"dataframe\">\n",
       "  <thead>\n",
       "    <tr style=\"text-align: right;\">\n",
       "      <th></th>\n",
       "      <th>employee_id</th>\n",
       "      <th>no_of_trainings</th>\n",
       "      <th>age</th>\n",
       "      <th>previous_year_rating</th>\n",
       "      <th>length_of_service</th>\n",
       "      <th>KPIs_met &gt;80%</th>\n",
       "      <th>awards_won?</th>\n",
       "      <th>avg_training_score</th>\n",
       "      <th>is_promoted</th>\n",
       "    </tr>\n",
       "  </thead>\n",
       "  <tbody>\n",
       "    <tr>\n",
       "      <th>count</th>\n",
       "      <td>54808.000000</td>\n",
       "      <td>54808.000000</td>\n",
       "      <td>54808.000000</td>\n",
       "      <td>50684.000000</td>\n",
       "      <td>54808.000000</td>\n",
       "      <td>54808.000000</td>\n",
       "      <td>54808.000000</td>\n",
       "      <td>54808.000000</td>\n",
       "      <td>54808.000000</td>\n",
       "    </tr>\n",
       "    <tr>\n",
       "      <th>mean</th>\n",
       "      <td>39195.830627</td>\n",
       "      <td>1.253011</td>\n",
       "      <td>34.803915</td>\n",
       "      <td>3.329256</td>\n",
       "      <td>5.865512</td>\n",
       "      <td>0.351974</td>\n",
       "      <td>0.023172</td>\n",
       "      <td>63.386750</td>\n",
       "      <td>0.085170</td>\n",
       "    </tr>\n",
       "    <tr>\n",
       "      <th>std</th>\n",
       "      <td>22586.581449</td>\n",
       "      <td>0.609264</td>\n",
       "      <td>7.660169</td>\n",
       "      <td>1.259993</td>\n",
       "      <td>4.265094</td>\n",
       "      <td>0.477590</td>\n",
       "      <td>0.150450</td>\n",
       "      <td>13.371559</td>\n",
       "      <td>0.279137</td>\n",
       "    </tr>\n",
       "    <tr>\n",
       "      <th>min</th>\n",
       "      <td>1.000000</td>\n",
       "      <td>1.000000</td>\n",
       "      <td>20.000000</td>\n",
       "      <td>1.000000</td>\n",
       "      <td>1.000000</td>\n",
       "      <td>0.000000</td>\n",
       "      <td>0.000000</td>\n",
       "      <td>39.000000</td>\n",
       "      <td>0.000000</td>\n",
       "    </tr>\n",
       "    <tr>\n",
       "      <th>25%</th>\n",
       "      <td>19669.750000</td>\n",
       "      <td>1.000000</td>\n",
       "      <td>29.000000</td>\n",
       "      <td>3.000000</td>\n",
       "      <td>3.000000</td>\n",
       "      <td>0.000000</td>\n",
       "      <td>0.000000</td>\n",
       "      <td>51.000000</td>\n",
       "      <td>0.000000</td>\n",
       "    </tr>\n",
       "    <tr>\n",
       "      <th>50%</th>\n",
       "      <td>39225.500000</td>\n",
       "      <td>1.000000</td>\n",
       "      <td>33.000000</td>\n",
       "      <td>3.000000</td>\n",
       "      <td>5.000000</td>\n",
       "      <td>0.000000</td>\n",
       "      <td>0.000000</td>\n",
       "      <td>60.000000</td>\n",
       "      <td>0.000000</td>\n",
       "    </tr>\n",
       "    <tr>\n",
       "      <th>75%</th>\n",
       "      <td>58730.500000</td>\n",
       "      <td>1.000000</td>\n",
       "      <td>39.000000</td>\n",
       "      <td>4.000000</td>\n",
       "      <td>7.000000</td>\n",
       "      <td>1.000000</td>\n",
       "      <td>0.000000</td>\n",
       "      <td>76.000000</td>\n",
       "      <td>0.000000</td>\n",
       "    </tr>\n",
       "    <tr>\n",
       "      <th>max</th>\n",
       "      <td>78298.000000</td>\n",
       "      <td>10.000000</td>\n",
       "      <td>60.000000</td>\n",
       "      <td>5.000000</td>\n",
       "      <td>37.000000</td>\n",
       "      <td>1.000000</td>\n",
       "      <td>1.000000</td>\n",
       "      <td>99.000000</td>\n",
       "      <td>1.000000</td>\n",
       "    </tr>\n",
       "  </tbody>\n",
       "</table>\n",
       "</div>"
      ],
      "text/plain": [
       "        employee_id  no_of_trainings           age  previous_year_rating  \\\n",
       "count  54808.000000     54808.000000  54808.000000          50684.000000   \n",
       "mean   39195.830627         1.253011     34.803915              3.329256   \n",
       "std    22586.581449         0.609264      7.660169              1.259993   \n",
       "min        1.000000         1.000000     20.000000              1.000000   \n",
       "25%    19669.750000         1.000000     29.000000              3.000000   \n",
       "50%    39225.500000         1.000000     33.000000              3.000000   \n",
       "75%    58730.500000         1.000000     39.000000              4.000000   \n",
       "max    78298.000000        10.000000     60.000000              5.000000   \n",
       "\n",
       "       length_of_service  KPIs_met >80%   awards_won?  avg_training_score  \\\n",
       "count       54808.000000   54808.000000  54808.000000        54808.000000   \n",
       "mean            5.865512       0.351974      0.023172           63.386750   \n",
       "std             4.265094       0.477590      0.150450           13.371559   \n",
       "min             1.000000       0.000000      0.000000           39.000000   \n",
       "25%             3.000000       0.000000      0.000000           51.000000   \n",
       "50%             5.000000       0.000000      0.000000           60.000000   \n",
       "75%             7.000000       1.000000      0.000000           76.000000   \n",
       "max            37.000000       1.000000      1.000000           99.000000   \n",
       "\n",
       "        is_promoted  \n",
       "count  54808.000000  \n",
       "mean       0.085170  \n",
       "std        0.279137  \n",
       "min        0.000000  \n",
       "25%        0.000000  \n",
       "50%        0.000000  \n",
       "75%        0.000000  \n",
       "max        1.000000  "
      ]
     },
     "execution_count": 13,
     "metadata": {},
     "output_type": "execute_result"
    }
   ],
   "source": [
    "train.describe()"
   ]
  },
  {
   "cell_type": "code",
   "execution_count": 14,
   "metadata": {},
   "outputs": [
    {
     "data": {
      "text/html": [
       "<div>\n",
       "<style scoped>\n",
       "    .dataframe tbody tr th:only-of-type {\n",
       "        vertical-align: middle;\n",
       "    }\n",
       "\n",
       "    .dataframe tbody tr th {\n",
       "        vertical-align: top;\n",
       "    }\n",
       "\n",
       "    .dataframe thead th {\n",
       "        text-align: right;\n",
       "    }\n",
       "</style>\n",
       "<table border=\"1\" class=\"dataframe\">\n",
       "  <thead>\n",
       "    <tr style=\"text-align: right;\">\n",
       "      <th></th>\n",
       "      <th>employee_id</th>\n",
       "      <th>no_of_trainings</th>\n",
       "      <th>age</th>\n",
       "      <th>previous_year_rating</th>\n",
       "      <th>length_of_service</th>\n",
       "      <th>KPIs_met &gt;80%</th>\n",
       "      <th>awards_won?</th>\n",
       "      <th>avg_training_score</th>\n",
       "    </tr>\n",
       "  </thead>\n",
       "  <tbody>\n",
       "    <tr>\n",
       "      <th>count</th>\n",
       "      <td>23490.000000</td>\n",
       "      <td>23490.000000</td>\n",
       "      <td>23490.000000</td>\n",
       "      <td>21678.000000</td>\n",
       "      <td>23490.000000</td>\n",
       "      <td>23490.000000</td>\n",
       "      <td>23490.000000</td>\n",
       "      <td>23490.000000</td>\n",
       "    </tr>\n",
       "    <tr>\n",
       "      <th>mean</th>\n",
       "      <td>39041.399149</td>\n",
       "      <td>1.254236</td>\n",
       "      <td>34.782929</td>\n",
       "      <td>3.339146</td>\n",
       "      <td>5.810387</td>\n",
       "      <td>0.358834</td>\n",
       "      <td>0.022776</td>\n",
       "      <td>63.263133</td>\n",
       "    </tr>\n",
       "    <tr>\n",
       "      <th>std</th>\n",
       "      <td>22640.809201</td>\n",
       "      <td>0.600910</td>\n",
       "      <td>7.679492</td>\n",
       "      <td>1.263294</td>\n",
       "      <td>4.207917</td>\n",
       "      <td>0.479668</td>\n",
       "      <td>0.149191</td>\n",
       "      <td>13.411750</td>\n",
       "    </tr>\n",
       "    <tr>\n",
       "      <th>min</th>\n",
       "      <td>3.000000</td>\n",
       "      <td>1.000000</td>\n",
       "      <td>20.000000</td>\n",
       "      <td>1.000000</td>\n",
       "      <td>1.000000</td>\n",
       "      <td>0.000000</td>\n",
       "      <td>0.000000</td>\n",
       "      <td>39.000000</td>\n",
       "    </tr>\n",
       "    <tr>\n",
       "      <th>25%</th>\n",
       "      <td>19370.250000</td>\n",
       "      <td>1.000000</td>\n",
       "      <td>29.000000</td>\n",
       "      <td>3.000000</td>\n",
       "      <td>3.000000</td>\n",
       "      <td>0.000000</td>\n",
       "      <td>0.000000</td>\n",
       "      <td>51.000000</td>\n",
       "    </tr>\n",
       "    <tr>\n",
       "      <th>50%</th>\n",
       "      <td>38963.500000</td>\n",
       "      <td>1.000000</td>\n",
       "      <td>33.000000</td>\n",
       "      <td>3.000000</td>\n",
       "      <td>5.000000</td>\n",
       "      <td>0.000000</td>\n",
       "      <td>0.000000</td>\n",
       "      <td>60.000000</td>\n",
       "    </tr>\n",
       "    <tr>\n",
       "      <th>75%</th>\n",
       "      <td>58690.000000</td>\n",
       "      <td>1.000000</td>\n",
       "      <td>39.000000</td>\n",
       "      <td>4.000000</td>\n",
       "      <td>7.000000</td>\n",
       "      <td>1.000000</td>\n",
       "      <td>0.000000</td>\n",
       "      <td>76.000000</td>\n",
       "    </tr>\n",
       "    <tr>\n",
       "      <th>max</th>\n",
       "      <td>78295.000000</td>\n",
       "      <td>9.000000</td>\n",
       "      <td>60.000000</td>\n",
       "      <td>5.000000</td>\n",
       "      <td>34.000000</td>\n",
       "      <td>1.000000</td>\n",
       "      <td>1.000000</td>\n",
       "      <td>99.000000</td>\n",
       "    </tr>\n",
       "  </tbody>\n",
       "</table>\n",
       "</div>"
      ],
      "text/plain": [
       "        employee_id  no_of_trainings           age  previous_year_rating  \\\n",
       "count  23490.000000     23490.000000  23490.000000          21678.000000   \n",
       "mean   39041.399149         1.254236     34.782929              3.339146   \n",
       "std    22640.809201         0.600910      7.679492              1.263294   \n",
       "min        3.000000         1.000000     20.000000              1.000000   \n",
       "25%    19370.250000         1.000000     29.000000              3.000000   \n",
       "50%    38963.500000         1.000000     33.000000              3.000000   \n",
       "75%    58690.000000         1.000000     39.000000              4.000000   \n",
       "max    78295.000000         9.000000     60.000000              5.000000   \n",
       "\n",
       "       length_of_service  KPIs_met >80%   awards_won?  avg_training_score  \n",
       "count       23490.000000   23490.000000  23490.000000        23490.000000  \n",
       "mean            5.810387       0.358834      0.022776           63.263133  \n",
       "std             4.207917       0.479668      0.149191           13.411750  \n",
       "min             1.000000       0.000000      0.000000           39.000000  \n",
       "25%             3.000000       0.000000      0.000000           51.000000  \n",
       "50%             5.000000       0.000000      0.000000           60.000000  \n",
       "75%             7.000000       1.000000      0.000000           76.000000  \n",
       "max            34.000000       1.000000      1.000000           99.000000  "
      ]
     },
     "execution_count": 14,
     "metadata": {},
     "output_type": "execute_result"
    }
   ],
   "source": [
    "test.describe()"
   ]
  },
  {
   "cell_type": "code",
   "execution_count": 15,
   "metadata": {},
   "outputs": [],
   "source": [
    "train_cat = train.select_dtypes(include = [object])\n",
    "train_num = train.select_dtypes(include = [np.number])\n",
    "\n",
    "test_cat = test.select_dtypes(include = [object])\n",
    "test_num = test.select_dtypes(include = [np.number])"
   ]
  },
  {
   "cell_type": "code",
   "execution_count": 16,
   "metadata": {},
   "outputs": [
    {
     "data": {
      "text/plain": [
       "employee_id                0\n",
       "no_of_trainings            0\n",
       "age                        0\n",
       "previous_year_rating    4124\n",
       "length_of_service          0\n",
       "KPIs_met >80%              0\n",
       "awards_won?                0\n",
       "avg_training_score         0\n",
       "is_promoted                0\n",
       "dtype: int64"
      ]
     },
     "execution_count": 16,
     "metadata": {},
     "output_type": "execute_result"
    }
   ],
   "source": [
    "train_num.isnull().sum()"
   ]
  },
  {
   "cell_type": "code",
   "execution_count": 17,
   "metadata": {},
   "outputs": [
    {
     "data": {
      "text/plain": [
       "department                0\n",
       "region                    0\n",
       "education              2409\n",
       "gender                    0\n",
       "recruitment_channel       0\n",
       "dtype: int64"
      ]
     },
     "execution_count": 17,
     "metadata": {},
     "output_type": "execute_result"
    }
   ],
   "source": [
    "train_cat.isnull().sum()"
   ]
  },
  {
   "cell_type": "code",
   "execution_count": 18,
   "metadata": {},
   "outputs": [
    {
     "data": {
      "text/plain": [
       "department                0\n",
       "region                    0\n",
       "education              1034\n",
       "gender                    0\n",
       "recruitment_channel       0\n",
       "dtype: int64"
      ]
     },
     "execution_count": 18,
     "metadata": {},
     "output_type": "execute_result"
    }
   ],
   "source": [
    "test_cat.isnull().sum()"
   ]
  },
  {
   "cell_type": "code",
   "execution_count": 19,
   "metadata": {},
   "outputs": [
    {
     "data": {
      "text/plain": [
       "employee_id                0\n",
       "no_of_trainings            0\n",
       "age                        0\n",
       "previous_year_rating    1812\n",
       "length_of_service          0\n",
       "KPIs_met >80%              0\n",
       "awards_won?                0\n",
       "avg_training_score         0\n",
       "dtype: int64"
      ]
     },
     "execution_count": 19,
     "metadata": {},
     "output_type": "execute_result"
    }
   ],
   "source": [
    "test_num.isnull().sum()"
   ]
  },
  {
   "cell_type": "code",
   "execution_count": 20,
   "metadata": {},
   "outputs": [
    {
     "name": "stdout",
     "output_type": "stream",
     "text": [
      "54808\n",
      "23490\n"
     ]
    }
   ],
   "source": [
    "print(train_num.shape[0])\n",
    "print(test_num.shape[0])"
   ]
  },
  {
   "cell_type": "code",
   "execution_count": 21,
   "metadata": {},
   "outputs": [
    {
     "name": "stderr",
     "output_type": "stream",
     "text": [
      "C:\\Users\\vishe\\Anaconda3\\lib\\site-packages\\pandas\\core\\generic.py:5096: SettingWithCopyWarning: \n",
      "A value is trying to be set on a copy of a slice from a DataFrame.\n",
      "Try using .loc[row_indexer,col_indexer] = value instead\n",
      "\n",
      "See the caveats in the documentation: http://pandas.pydata.org/pandas-docs/stable/indexing.html#indexing-view-versus-copy\n",
      "  self[name] = value\n"
     ]
    }
   ],
   "source": [
    "train_num.previous_year_rating= train_num.previous_year_rating.fillna(train_num.previous_year_rating.mean())\n",
    "test_num.previous_year_rating =test_num.previous_year_rating.fillna(test_num.previous_year_rating.mean())\n",
    "train_cat.education = train_cat.education.fillna('Unknown')\n",
    "test_cat.education = test_cat.education.fillna('Unknown')"
   ]
  },
  {
   "cell_type": "code",
   "execution_count": 22,
   "metadata": {},
   "outputs": [
    {
     "data": {
      "text/plain": [
       "(54808, 9)"
      ]
     },
     "execution_count": 22,
     "metadata": {},
     "output_type": "execute_result"
    }
   ],
   "source": [
    "train_num.shape"
   ]
  },
  {
   "cell_type": "code",
   "execution_count": 23,
   "metadata": {},
   "outputs": [
    {
     "data": {
      "text/html": [
       "<div>\n",
       "<style scoped>\n",
       "    .dataframe tbody tr th:only-of-type {\n",
       "        vertical-align: middle;\n",
       "    }\n",
       "\n",
       "    .dataframe tbody tr th {\n",
       "        vertical-align: top;\n",
       "    }\n",
       "\n",
       "    .dataframe thead th {\n",
       "        text-align: right;\n",
       "    }\n",
       "</style>\n",
       "<table border=\"1\" class=\"dataframe\">\n",
       "  <thead>\n",
       "    <tr style=\"text-align: right;\">\n",
       "      <th></th>\n",
       "      <th>department</th>\n",
       "      <th>region</th>\n",
       "      <th>education</th>\n",
       "      <th>gender</th>\n",
       "      <th>recruitment_channel</th>\n",
       "    </tr>\n",
       "  </thead>\n",
       "  <tbody>\n",
       "    <tr>\n",
       "      <th>0</th>\n",
       "      <td>Sales &amp; Marketing</td>\n",
       "      <td>region_7</td>\n",
       "      <td>Master's &amp; above</td>\n",
       "      <td>f</td>\n",
       "      <td>sourcing</td>\n",
       "    </tr>\n",
       "    <tr>\n",
       "      <th>1</th>\n",
       "      <td>Operations</td>\n",
       "      <td>region_22</td>\n",
       "      <td>Bachelor's</td>\n",
       "      <td>m</td>\n",
       "      <td>other</td>\n",
       "    </tr>\n",
       "    <tr>\n",
       "      <th>2</th>\n",
       "      <td>Sales &amp; Marketing</td>\n",
       "      <td>region_19</td>\n",
       "      <td>Bachelor's</td>\n",
       "      <td>m</td>\n",
       "      <td>sourcing</td>\n",
       "    </tr>\n",
       "    <tr>\n",
       "      <th>3</th>\n",
       "      <td>Sales &amp; Marketing</td>\n",
       "      <td>region_23</td>\n",
       "      <td>Bachelor's</td>\n",
       "      <td>m</td>\n",
       "      <td>other</td>\n",
       "    </tr>\n",
       "    <tr>\n",
       "      <th>4</th>\n",
       "      <td>Technology</td>\n",
       "      <td>region_26</td>\n",
       "      <td>Bachelor's</td>\n",
       "      <td>m</td>\n",
       "      <td>other</td>\n",
       "    </tr>\n",
       "  </tbody>\n",
       "</table>\n",
       "</div>"
      ],
      "text/plain": [
       "          department     region         education gender recruitment_channel\n",
       "0  Sales & Marketing   region_7  Master's & above      f            sourcing\n",
       "1         Operations  region_22        Bachelor's      m               other\n",
       "2  Sales & Marketing  region_19        Bachelor's      m            sourcing\n",
       "3  Sales & Marketing  region_23        Bachelor's      m               other\n",
       "4         Technology  region_26        Bachelor's      m               other"
      ]
     },
     "execution_count": 23,
     "metadata": {},
     "output_type": "execute_result"
    }
   ],
   "source": [
    "train_cat.head()"
   ]
  },
  {
   "cell_type": "code",
   "execution_count": 24,
   "metadata": {},
   "outputs": [],
   "source": [
    "from sklearn.preprocessing import LabelEncoder"
   ]
  },
  {
   "cell_type": "code",
   "execution_count": 25,
   "metadata": {},
   "outputs": [],
   "source": [
    "le = LabelEncoder()"
   ]
  },
  {
   "cell_type": "code",
   "execution_count": 26,
   "metadata": {},
   "outputs": [],
   "source": [
    "train_cat.education = le.fit_transform(train_cat.education)\n",
    "test_cat.education = le.fit_transform(test_cat.education)"
   ]
  },
  {
   "cell_type": "code",
   "execution_count": 27,
   "metadata": {},
   "outputs": [],
   "source": [
    "def create_dummies( a, colname ):\n",
    "    col_dummies = pd.get_dummies(a[colname], prefix=colname, drop_first=True)\n",
    "    a = pd.concat([a, col_dummies], axis=1)\n",
    "    a.drop( colname, axis = 1, inplace = True )\n",
    "    return a\n",
    "\n"
   ]
  },
  {
   "cell_type": "code",
   "execution_count": 28,
   "metadata": {},
   "outputs": [],
   "source": [
    "for c_feature in train_cat.columns.difference(['education']):\n",
    "    train_cat = create_dummies(train_cat , c_feature)\n",
    "    "
   ]
  },
  {
   "cell_type": "code",
   "execution_count": 29,
   "metadata": {},
   "outputs": [],
   "source": [
    "for c_feature in test_cat.columns.difference(['education']):\n",
    "    test_cat = create_dummies(test_cat , c_feature)\n",
    "    "
   ]
  },
  {
   "cell_type": "code",
   "execution_count": 30,
   "metadata": {},
   "outputs": [],
   "source": [
    "train_new = pd.concat([train_cat,train_num], axis = 1)\n",
    "test_new = pd.concat([test_cat,test_num], axis = 1)"
   ]
  },
  {
   "cell_type": "code",
   "execution_count": 31,
   "metadata": {},
   "outputs": [
    {
     "data": {
      "text/plain": [
       "(54808, 54)"
      ]
     },
     "execution_count": 31,
     "metadata": {},
     "output_type": "execute_result"
    }
   ],
   "source": [
    "train_new.shape"
   ]
  },
  {
   "cell_type": "code",
   "execution_count": 32,
   "metadata": {},
   "outputs": [],
   "source": [
    "from sklearn.model_selection import train_test_split"
   ]
  },
  {
   "cell_type": "code",
   "execution_count": 33,
   "metadata": {},
   "outputs": [],
   "source": [
    "y = train_new.is_promoted\n",
    "train_new.drop('is_promoted', axis =1, inplace = True)"
   ]
  },
  {
   "cell_type": "code",
   "execution_count": 337,
   "metadata": {},
   "outputs": [],
   "source": [
    "x_train, x_test, y_train, y_test = train_test_split(train_new,y , test_size = 0.2,random_state = 123)"
   ]
  },
  {
   "cell_type": "code",
   "execution_count": 290,
   "metadata": {},
   "outputs": [
    {
     "name": "stderr",
     "output_type": "stream",
     "text": [
      "C:\\Users\\vishe\\Anaconda3\\lib\\site-packages\\sklearn\\linear_model\\logistic.py:433: FutureWarning: Default solver will be changed to 'lbfgs' in 0.22. Specify a solver to silence this warning.\n",
      "  FutureWarning)\n"
     ]
    },
    {
     "name": "stdout",
     "output_type": "stream",
     "text": [
      "0.9181718664477285\n"
     ]
    }
   ],
   "source": [
    "from sklearn.linear_model import LogisticRegression\n",
    "clf=LogisticRegression().fit(x_train,y_train)\n",
    "y_pred=clf.predict(x_test)\n",
    "from sklearn.metrics import accuracy_score\n",
    "print(accuracy_score(y_pred,y_test))"
   ]
  },
  {
   "cell_type": "code",
   "execution_count": 291,
   "metadata": {},
   "outputs": [],
   "source": [
    "from sklearn import metrics"
   ]
  },
  {
   "cell_type": "code",
   "execution_count": 292,
   "metadata": {},
   "outputs": [
    {
     "name": "stdout",
     "output_type": "stream",
     "text": [
      "[[10065     0]\n",
      " [  897     0]]\n",
      "0.5\n",
      "0.9181718664477285\n"
     ]
    }
   ],
   "source": [
    "print(metrics.confusion_matrix(y_test, y_pred))\n",
    "print(metrics.roc_auc_score(y_test, y_pred))\n",
    "print(metrics.f1_score(y_test, y_pred, average = 'micro'))\n"
   ]
  },
  {
   "cell_type": "code",
   "execution_count": null,
   "metadata": {},
   "outputs": [],
   "source": []
  },
  {
   "cell_type": "code",
   "execution_count": 293,
   "metadata": {},
   "outputs": [
    {
     "name": "stdout",
     "output_type": "stream",
     "text": [
      "0.9408866995073891\n"
     ]
    }
   ],
   "source": [
    "# Import the model we are using\n",
    "from sklearn.ensemble import RandomForestClassifier\n",
    "rf = RandomForestClassifier(n_estimators = 100, random_state = 42)\n",
    "rf.fit(x_train,y_train)\n",
    "y_pred = rf.predict(x_test)\n",
    "print(accuracy_score(y_pred,y_test))"
   ]
  },
  {
   "cell_type": "code",
   "execution_count": 294,
   "metadata": {},
   "outputs": [
    {
     "name": "stdout",
     "output_type": "stream",
     "text": [
      "[[10042    23]\n",
      " [  625   272]]\n",
      "0.6504739261688656\n"
     ]
    }
   ],
   "source": [
    "print(metrics.confusion_matrix(y_test, y_pred))\n",
    "print(metrics.roc_auc_score(y_test, y_pred))"
   ]
  },
  {
   "cell_type": "code",
   "execution_count": null,
   "metadata": {},
   "outputs": [],
   "source": []
  },
  {
   "cell_type": "code",
   "execution_count": null,
   "metadata": {},
   "outputs": [],
   "source": []
  },
  {
   "cell_type": "code",
   "execution_count": 295,
   "metadata": {},
   "outputs": [
    {
     "name": "stdout",
     "output_type": "stream",
     "text": [
      "0.45637583892617445\n"
     ]
    }
   ],
   "source": [
    "print(metrics.f1_score(y_test, y_pred))\n"
   ]
  },
  {
   "cell_type": "code",
   "execution_count": 296,
   "metadata": {},
   "outputs": [
    {
     "data": {
      "text/plain": [
       "0    10065\n",
       "1      897\n",
       "Name: is_promoted, dtype: int64"
      ]
     },
     "execution_count": 296,
     "metadata": {},
     "output_type": "execute_result"
    }
   ],
   "source": [
    "y_test.value_counts()"
   ]
  },
  {
   "cell_type": "code",
   "execution_count": 304,
   "metadata": {
    "scrolled": false
   },
   "outputs": [
    {
     "name": "stdout",
     "output_type": "stream",
     "text": [
      "[0]\tvalidation_0-auc:0.823145\tvalidation_1-auc:0.812367\n",
      "Multiple eval metrics have been passed: 'validation_1-auc' will be used for early stopping.\n",
      "\n",
      "Will train until validation_1-auc hasn't improved in 200 rounds.\n",
      "[200]\tvalidation_0-auc:0.934982\tvalidation_1-auc:0.912104\n",
      "Stopping. Best iteration:\n",
      "[126]\tvalidation_0-auc:0.925185\tvalidation_1-auc:0.913492\n",
      "\n",
      "err_xgb:  0.4674698795180723\n",
      "[0]\tvalidation_0-auc:0.822223\tvalidation_1-auc:0.825467\n",
      "Multiple eval metrics have been passed: 'validation_1-auc' will be used for early stopping.\n",
      "\n",
      "Will train until validation_1-auc hasn't improved in 200 rounds.\n",
      "[200]\tvalidation_0-auc:0.934785\tvalidation_1-auc:0.912963\n",
      "Stopping. Best iteration:\n",
      "[192]\tvalidation_0-auc:0.93404\tvalidation_1-auc:0.913263\n",
      "\n",
      "err_xgb:  0.5277777777777778\n",
      "[0]\tvalidation_0-auc:0.822688\tvalidation_1-auc:0.818776\n",
      "Multiple eval metrics have been passed: 'validation_1-auc' will be used for early stopping.\n",
      "\n",
      "Will train until validation_1-auc hasn't improved in 200 rounds.\n",
      "[200]\tvalidation_0-auc:0.934569\tvalidation_1-auc:0.907255\n",
      "Stopping. Best iteration:\n",
      "[143]\tvalidation_0-auc:0.927458\tvalidation_1-auc:0.908616\n",
      "\n",
      "err_xgb:  0.4927536231884058\n",
      "[0]\tvalidation_0-auc:0.822948\tvalidation_1-auc:0.823742\n",
      "Multiple eval metrics have been passed: 'validation_1-auc' will be used for early stopping.\n",
      "\n",
      "Will train until validation_1-auc hasn't improved in 200 rounds.\n",
      "[200]\tvalidation_0-auc:0.935049\tvalidation_1-auc:0.904594\n",
      "Stopping. Best iteration:\n",
      "[190]\tvalidation_0-auc:0.933664\tvalidation_1-auc:0.904802\n",
      "\n",
      "err_xgb:  0.4585365853658537\n",
      "[0]\tvalidation_0-auc:0.822538\tvalidation_1-auc:0.820821\n",
      "Multiple eval metrics have been passed: 'validation_1-auc' will be used for early stopping.\n",
      "\n",
      "Will train until validation_1-auc hasn't improved in 200 rounds.\n",
      "[200]\tvalidation_0-auc:0.934477\tvalidation_1-auc:0.909729\n",
      "[400]\tvalidation_0-auc:0.951802\tvalidation_1-auc:0.910537\n",
      "Stopping. Best iteration:\n",
      "[292]\tvalidation_0-auc:0.943448\tvalidation_1-auc:0.910874\n",
      "\n",
      "err_xgb:  0.4988452655889146\n",
      "[0]\tvalidation_0-auc:0.822054\tvalidation_1-auc:0.828116\n",
      "Multiple eval metrics have been passed: 'validation_1-auc' will be used for early stopping.\n",
      "\n",
      "Will train until validation_1-auc hasn't improved in 200 rounds.\n",
      "[200]\tvalidation_0-auc:0.935072\tvalidation_1-auc:0.910906\n",
      "[400]\tvalidation_0-auc:0.951355\tvalidation_1-auc:0.913158\n",
      "[600]\tvalidation_0-auc:0.962368\tvalidation_1-auc:0.912475\n",
      "Stopping. Best iteration:\n",
      "[407]\tvalidation_0-auc:0.952052\tvalidation_1-auc:0.91346\n",
      "\n",
      "err_xgb:  0.48699763593380613\n",
      "[0]\tvalidation_0-auc:0.824552\tvalidation_1-auc:0.801463\n",
      "Multiple eval metrics have been passed: 'validation_1-auc' will be used for early stopping.\n",
      "\n",
      "Will train until validation_1-auc hasn't improved in 200 rounds.\n",
      "[200]\tvalidation_0-auc:0.934758\tvalidation_1-auc:0.900512\n",
      "[400]\tvalidation_0-auc:0.950597\tvalidation_1-auc:0.901634\n",
      "[600]\tvalidation_0-auc:0.961118\tvalidation_1-auc:0.901952\n",
      "Stopping. Best iteration:\n",
      "[461]\tvalidation_0-auc:0.954168\tvalidation_1-auc:0.902857\n",
      "\n",
      "err_xgb:  0.47228915662650606\n",
      "[0]\tvalidation_0-auc:0.82283\tvalidation_1-auc:0.816865\n",
      "Multiple eval metrics have been passed: 'validation_1-auc' will be used for early stopping.\n",
      "\n",
      "Will train until validation_1-auc hasn't improved in 200 rounds.\n",
      "[200]\tvalidation_0-auc:0.936176\tvalidation_1-auc:0.898779\n",
      "Stopping. Best iteration:\n",
      "[72]\tvalidation_0-auc:0.914189\tvalidation_1-auc:0.900608\n",
      "\n",
      "err_xgb:  0.44334975369458124\n",
      "[0]\tvalidation_0-auc:0.823375\tvalidation_1-auc:0.815278\n",
      "Multiple eval metrics have been passed: 'validation_1-auc' will be used for early stopping.\n",
      "\n",
      "Will train until validation_1-auc hasn't improved in 200 rounds.\n",
      "[200]\tvalidation_0-auc:0.934378\tvalidation_1-auc:0.916624\n",
      "[400]\tvalidation_0-auc:0.951952\tvalidation_1-auc:0.91842\n",
      "[600]\tvalidation_0-auc:0.962762\tvalidation_1-auc:0.91827\n",
      "Stopping. Best iteration:\n",
      "[429]\tvalidation_0-auc:0.954111\tvalidation_1-auc:0.919069\n",
      "\n",
      "err_xgb:  0.5391705069124424\n",
      "[0]\tvalidation_0-auc:0.822628\tvalidation_1-auc:0.819948\n",
      "Multiple eval metrics have been passed: 'validation_1-auc' will be used for early stopping.\n",
      "\n",
      "Will train until validation_1-auc hasn't improved in 200 rounds.\n",
      "[200]\tvalidation_0-auc:0.934222\tvalidation_1-auc:0.909568\n",
      "Stopping. Best iteration:\n",
      "[151]\tvalidation_0-auc:0.929163\tvalidation_1-auc:0.909966\n",
      "\n",
      "err_xgb:  0.5094339622641509\n",
      "[0]\tvalidation_0-auc:0.823136\tvalidation_1-auc:0.813179\n",
      "Multiple eval metrics have been passed: 'validation_1-auc' will be used for early stopping.\n",
      "\n",
      "Will train until validation_1-auc hasn't improved in 200 rounds.\n",
      "[200]\tvalidation_0-auc:0.935374\tvalidation_1-auc:0.919055\n",
      "Stopping. Best iteration:\n",
      "[155]\tvalidation_0-auc:0.929496\tvalidation_1-auc:0.919708\n",
      "\n",
      "err_xgb:  0.5370370370370371\n",
      "[0]\tvalidation_0-auc:0.821779\tvalidation_1-auc:0.831859\n",
      "Multiple eval metrics have been passed: 'validation_1-auc' will be used for early stopping.\n",
      "\n",
      "Will train until validation_1-auc hasn't improved in 200 rounds.\n",
      "[200]\tvalidation_0-auc:0.935161\tvalidation_1-auc:0.912905\n",
      "[400]\tvalidation_0-auc:0.952249\tvalidation_1-auc:0.912817\n",
      "Stopping. Best iteration:\n",
      "[233]\tvalidation_0-auc:0.93896\tvalidation_1-auc:0.913411\n",
      "\n",
      "err_xgb:  0.5083135391923991\n",
      "[0]\tvalidation_0-auc:0.822266\tvalidation_1-auc:0.824931\n",
      "Multiple eval metrics have been passed: 'validation_1-auc' will be used for early stopping.\n",
      "\n",
      "Will train until validation_1-auc hasn't improved in 200 rounds.\n",
      "[200]\tvalidation_0-auc:0.93507\tvalidation_1-auc:0.915406\n",
      "Stopping. Best iteration:\n",
      "[155]\tvalidation_0-auc:0.929251\tvalidation_1-auc:0.915821\n",
      "\n",
      "err_xgb:  0.5047619047619047\n",
      "[0]\tvalidation_0-auc:0.821786\tvalidation_1-auc:0.831677\n",
      "Multiple eval metrics have been passed: 'validation_1-auc' will be used for early stopping.\n",
      "\n",
      "Will train until validation_1-auc hasn't improved in 200 rounds.\n",
      "[200]\tvalidation_0-auc:0.935961\tvalidation_1-auc:0.91681\n",
      "Stopping. Best iteration:\n",
      "[140]\tvalidation_0-auc:0.926722\tvalidation_1-auc:0.917308\n",
      "\n",
      "err_xgb:  0.4711538461538462\n",
      "[0]\tvalidation_0-auc:0.823086\tvalidation_1-auc:0.81383\n",
      "Multiple eval metrics have been passed: 'validation_1-auc' will be used for early stopping.\n",
      "\n",
      "Will train until validation_1-auc hasn't improved in 200 rounds.\n",
      "[200]\tvalidation_0-auc:0.934769\tvalidation_1-auc:0.901531\n",
      "[400]\tvalidation_0-auc:0.950997\tvalidation_1-auc:0.901751\n",
      "Stopping. Best iteration:\n",
      "[338]\tvalidation_0-auc:0.947084\tvalidation_1-auc:0.902523\n",
      "\n",
      "err_xgb:  0.48711943793911\n"
     ]
    }
   ],
   "source": [
    "from xgboost import XGBClassifier\n",
    "\n",
    "errxgb = []\n",
    "y_pred_tot_xgb = []\n",
    "\n",
    "from sklearn.model_selection import KFold,StratifiedKFold\n",
    "\n",
    "fold = StratifiedKFold(n_splits=15)\n",
    "i = 1\n",
    "for train_index, test_index in fold.split(train_new,y):\n",
    "    x_train, x_val = train_new.iloc[train_index], train_new.iloc[test_index]\n",
    "    y_train, y_val = y[train_index], y[test_index]\n",
    "    m = XGBClassifier(boosting_type='gbdt',\n",
    "                      max_depth=5,\n",
    "                      learning_rate=0.07,\n",
    "                      n_estimators=5000,\n",
    "                      random_state=1994)\n",
    "    m.fit(x_train, y_train,\n",
    "          eval_set=[(x_train,y_train),(x_val, y_val)],\n",
    "          early_stopping_rounds=200,\n",
    "          eval_metric='auc',\n",
    "          verbose=200)\n",
    "    pred_y = m.predict_proba(x_val)[:,-1]\n",
    "    print(\"err_xgb: \",metrics.f1_score(y_val,pred_y.round()))\n",
    "    errxgb.append(metrics.f1_score(y_val, pred_y.round()))\n",
    "    pred_test = m.predict(test_new)\n",
    "    i = i + 1\n",
    "    y_pred_tot_xgb.append(pred_test)"
   ]
  },
  {
   "cell_type": "code",
   "execution_count": 234,
   "metadata": {},
   "outputs": [],
   "source": [
    "Final = pd.DataFrame([test_new.employee_id, pd.Series(y_pred_tot_xgb[4])]).T"
   ]
  },
  {
   "cell_type": "code",
   "execution_count": 235,
   "metadata": {},
   "outputs": [],
   "source": [
    "Final.columns = ['employee_id', 'is_promoted']"
   ]
  },
  {
   "cell_type": "code",
   "execution_count": 236,
   "metadata": {},
   "outputs": [],
   "source": [
    "Final.to_csv(r'Downloads\\Final7.csv', index = False)"
   ]
  },
  {
   "cell_type": "code",
   "execution_count": 187,
   "metadata": {},
   "outputs": [],
   "source": [
    "Final.to_csv?"
   ]
  },
  {
   "cell_type": "code",
   "execution_count": 207,
   "metadata": {},
   "outputs": [],
   "source": [
    "new = m.predict(test_new)"
   ]
  },
  {
   "cell_type": "code",
   "execution_count": 213,
   "metadata": {},
   "outputs": [],
   "source": [
    "m.fit?"
   ]
  },
  {
   "cell_type": "code",
   "execution_count": 216,
   "metadata": {},
   "outputs": [],
   "source": []
  },
  {
   "cell_type": "code",
   "execution_count": 238,
   "metadata": {},
   "outputs": [
    {
     "data": {
      "text/html": [
       "<div>\n",
       "<style scoped>\n",
       "    .dataframe tbody tr th:only-of-type {\n",
       "        vertical-align: middle;\n",
       "    }\n",
       "\n",
       "    .dataframe tbody tr th {\n",
       "        vertical-align: top;\n",
       "    }\n",
       "\n",
       "    .dataframe thead th {\n",
       "        text-align: right;\n",
       "    }\n",
       "</style>\n",
       "<table border=\"1\" class=\"dataframe\">\n",
       "  <thead>\n",
       "    <tr style=\"text-align: right;\">\n",
       "      <th></th>\n",
       "      <th>education</th>\n",
       "      <th>department_Finance</th>\n",
       "      <th>department_HR</th>\n",
       "      <th>department_Legal</th>\n",
       "      <th>department_Operations</th>\n",
       "      <th>department_Procurement</th>\n",
       "      <th>department_R&amp;D</th>\n",
       "      <th>department_Sales &amp; Marketing</th>\n",
       "      <th>department_Technology</th>\n",
       "      <th>gender_m</th>\n",
       "      <th>...</th>\n",
       "      <th>region_region_8</th>\n",
       "      <th>region_region_9</th>\n",
       "      <th>employee_id</th>\n",
       "      <th>no_of_trainings</th>\n",
       "      <th>age</th>\n",
       "      <th>previous_year_rating</th>\n",
       "      <th>length_of_service</th>\n",
       "      <th>KPIs_met &gt;80%</th>\n",
       "      <th>awards_won?</th>\n",
       "      <th>avg_training_score</th>\n",
       "    </tr>\n",
       "  </thead>\n",
       "  <tbody>\n",
       "    <tr>\n",
       "      <th>0</th>\n",
       "      <td>2</td>\n",
       "      <td>0</td>\n",
       "      <td>0</td>\n",
       "      <td>0</td>\n",
       "      <td>0</td>\n",
       "      <td>0</td>\n",
       "      <td>0</td>\n",
       "      <td>1</td>\n",
       "      <td>0</td>\n",
       "      <td>0</td>\n",
       "      <td>...</td>\n",
       "      <td>0</td>\n",
       "      <td>0</td>\n",
       "      <td>65438</td>\n",
       "      <td>1</td>\n",
       "      <td>35</td>\n",
       "      <td>5.0</td>\n",
       "      <td>8</td>\n",
       "      <td>1</td>\n",
       "      <td>0</td>\n",
       "      <td>49</td>\n",
       "    </tr>\n",
       "    <tr>\n",
       "      <th>1</th>\n",
       "      <td>0</td>\n",
       "      <td>0</td>\n",
       "      <td>0</td>\n",
       "      <td>0</td>\n",
       "      <td>1</td>\n",
       "      <td>0</td>\n",
       "      <td>0</td>\n",
       "      <td>0</td>\n",
       "      <td>0</td>\n",
       "      <td>1</td>\n",
       "      <td>...</td>\n",
       "      <td>0</td>\n",
       "      <td>0</td>\n",
       "      <td>65141</td>\n",
       "      <td>1</td>\n",
       "      <td>30</td>\n",
       "      <td>5.0</td>\n",
       "      <td>4</td>\n",
       "      <td>0</td>\n",
       "      <td>0</td>\n",
       "      <td>60</td>\n",
       "    </tr>\n",
       "    <tr>\n",
       "      <th>2</th>\n",
       "      <td>0</td>\n",
       "      <td>0</td>\n",
       "      <td>0</td>\n",
       "      <td>0</td>\n",
       "      <td>0</td>\n",
       "      <td>0</td>\n",
       "      <td>0</td>\n",
       "      <td>1</td>\n",
       "      <td>0</td>\n",
       "      <td>1</td>\n",
       "      <td>...</td>\n",
       "      <td>0</td>\n",
       "      <td>0</td>\n",
       "      <td>7513</td>\n",
       "      <td>1</td>\n",
       "      <td>34</td>\n",
       "      <td>3.0</td>\n",
       "      <td>7</td>\n",
       "      <td>0</td>\n",
       "      <td>0</td>\n",
       "      <td>50</td>\n",
       "    </tr>\n",
       "    <tr>\n",
       "      <th>3</th>\n",
       "      <td>0</td>\n",
       "      <td>0</td>\n",
       "      <td>0</td>\n",
       "      <td>0</td>\n",
       "      <td>0</td>\n",
       "      <td>0</td>\n",
       "      <td>0</td>\n",
       "      <td>1</td>\n",
       "      <td>0</td>\n",
       "      <td>1</td>\n",
       "      <td>...</td>\n",
       "      <td>0</td>\n",
       "      <td>0</td>\n",
       "      <td>2542</td>\n",
       "      <td>2</td>\n",
       "      <td>39</td>\n",
       "      <td>1.0</td>\n",
       "      <td>10</td>\n",
       "      <td>0</td>\n",
       "      <td>0</td>\n",
       "      <td>50</td>\n",
       "    </tr>\n",
       "    <tr>\n",
       "      <th>4</th>\n",
       "      <td>0</td>\n",
       "      <td>0</td>\n",
       "      <td>0</td>\n",
       "      <td>0</td>\n",
       "      <td>0</td>\n",
       "      <td>0</td>\n",
       "      <td>0</td>\n",
       "      <td>0</td>\n",
       "      <td>1</td>\n",
       "      <td>1</td>\n",
       "      <td>...</td>\n",
       "      <td>0</td>\n",
       "      <td>0</td>\n",
       "      <td>48945</td>\n",
       "      <td>1</td>\n",
       "      <td>45</td>\n",
       "      <td>3.0</td>\n",
       "      <td>2</td>\n",
       "      <td>0</td>\n",
       "      <td>0</td>\n",
       "      <td>73</td>\n",
       "    </tr>\n",
       "  </tbody>\n",
       "</table>\n",
       "<p>5 rows × 53 columns</p>\n",
       "</div>"
      ],
      "text/plain": [
       "   education  department_Finance  department_HR  department_Legal  \\\n",
       "0          2                   0              0                 0   \n",
       "1          0                   0              0                 0   \n",
       "2          0                   0              0                 0   \n",
       "3          0                   0              0                 0   \n",
       "4          0                   0              0                 0   \n",
       "\n",
       "   department_Operations  department_Procurement  department_R&D  \\\n",
       "0                      0                       0               0   \n",
       "1                      1                       0               0   \n",
       "2                      0                       0               0   \n",
       "3                      0                       0               0   \n",
       "4                      0                       0               0   \n",
       "\n",
       "   department_Sales & Marketing  department_Technology  gender_m  ...  \\\n",
       "0                             1                      0         0  ...   \n",
       "1                             0                      0         1  ...   \n",
       "2                             1                      0         1  ...   \n",
       "3                             1                      0         1  ...   \n",
       "4                             0                      1         1  ...   \n",
       "\n",
       "   region_region_8  region_region_9  employee_id  no_of_trainings  age  \\\n",
       "0                0                0        65438                1   35   \n",
       "1                0                0        65141                1   30   \n",
       "2                0                0         7513                1   34   \n",
       "3                0                0         2542                2   39   \n",
       "4                0                0        48945                1   45   \n",
       "\n",
       "   previous_year_rating  length_of_service  KPIs_met >80%  awards_won?  \\\n",
       "0                   5.0                  8              1            0   \n",
       "1                   5.0                  4              0            0   \n",
       "2                   3.0                  7              0            0   \n",
       "3                   1.0                 10              0            0   \n",
       "4                   3.0                  2              0            0   \n",
       "\n",
       "   avg_training_score  \n",
       "0                  49  \n",
       "1                  60  \n",
       "2                  50  \n",
       "3                  50  \n",
       "4                  73  \n",
       "\n",
       "[5 rows x 53 columns]"
      ]
     },
     "execution_count": 238,
     "metadata": {},
     "output_type": "execute_result"
    }
   ],
   "source": [
    "train_new.head()"
   ]
  },
  {
   "cell_type": "code",
   "execution_count": 239,
   "metadata": {},
   "outputs": [],
   "source": [
    "from sklearn.feature_selection import VarianceThreshold"
   ]
  },
  {
   "cell_type": "code",
   "execution_count": 245,
   "metadata": {},
   "outputs": [
    {
     "data": {
      "text/plain": [
       "VarianceThreshold(threshold=0.01)"
      ]
     },
     "execution_count": 245,
     "metadata": {},
     "output_type": "execute_result"
    }
   ],
   "source": [
    "feature = VarianceThreshold(threshold=0.01)\n",
    "feature.fit(train_new)"
   ]
  },
  {
   "cell_type": "code",
   "execution_count": 246,
   "metadata": {},
   "outputs": [
    {
     "data": {
      "text/plain": [
       "(45,)"
      ]
     },
     "execution_count": 246,
     "metadata": {},
     "output_type": "execute_result"
    }
   ],
   "source": [
    "train_new.columns[feature.get_support()].shape"
   ]
  },
  {
   "cell_type": "code",
   "execution_count": 248,
   "metadata": {},
   "outputs": [],
   "source": [
    "feature1_to_keep = train_new.columns[feature.get_support()]"
   ]
  },
  {
   "cell_type": "code",
   "execution_count": 250,
   "metadata": {},
   "outputs": [],
   "source": [
    "train_new = feature.transform(train_new)"
   ]
  },
  {
   "cell_type": "code",
   "execution_count": 251,
   "metadata": {},
   "outputs": [],
   "source": [
    "test_new = feature.transform(test_new)"
   ]
  },
  {
   "cell_type": "code",
   "execution_count": 252,
   "metadata": {},
   "outputs": [],
   "source": [
    "train_new = pd.DataFrame(train_new)\n",
    "train_new.columns = feature1_to_keep\n",
    "test_new = pd.DataFrame(test_new)\n",
    "test_new.columns = feature1_to_keep\n"
   ]
  },
  {
   "cell_type": "code",
   "execution_count": 301,
   "metadata": {},
   "outputs": [],
   "source": [
    "# Importing the packages for running RFE\n",
    "from sklearn.feature_selection import RFE\n",
    "#from sklearn.linear_model import LinearRegression\n",
    "\n",
    "import itertools\n",
    "\n",
    "# Fitting a Linear Regression Model for running RFE\n",
    "rf = RandomForestClassifier(n_estimators = 100, random_state = 42)\n",
    "\n",
    "# creating the RFE model and selecting 10 attributes\n",
    "rfe = RFE(rf, n_features_to_select=40)\n",
    "rfe = rfe.fit(train_new, y)"
   ]
  },
  {
   "cell_type": "code",
   "execution_count": 302,
   "metadata": {},
   "outputs": [],
   "source": [
    "RFE_features=train_new.columns[rfe.get_support()]"
   ]
  },
  {
   "cell_type": "code",
   "execution_count": 303,
   "metadata": {},
   "outputs": [],
   "source": [
    "train_new = train_new[RFE_features]\n",
    "test_new = test_new[RFE_features]\n"
   ]
  },
  {
   "cell_type": "code",
   "execution_count": 256,
   "metadata": {},
   "outputs": [
    {
     "data": {
      "text/plain": [
       "(54808, 15)"
      ]
     },
     "execution_count": 256,
     "metadata": {},
     "output_type": "execute_result"
    }
   ],
   "source": [
    "train_new.shape"
   ]
  },
  {
   "cell_type": "code",
   "execution_count": null,
   "metadata": {},
   "outputs": [],
   "source": []
  },
  {
   "cell_type": "code",
   "execution_count": null,
   "metadata": {},
   "outputs": [],
   "source": []
  },
  {
   "cell_type": "code",
   "execution_count": 339,
   "metadata": {},
   "outputs": [],
   "source": [
    "from lightgbm import LGBMClassifier"
   ]
  },
  {
   "cell_type": "code",
   "execution_count": 343,
   "metadata": {},
   "outputs": [
    {
     "name": "stdout",
     "output_type": "stream",
     "text": [
      "Training until validation scores don't improve for 200 rounds\n",
      "[200]\ttraining's auc: 0.929652\ttraining's binary_logloss: 0.160058\tvalid_1's auc: 0.913457\tvalid_1's binary_logloss: 0.170839\n",
      "[400]\ttraining's auc: 0.945167\ttraining's binary_logloss: 0.146005\tvalid_1's auc: 0.913984\tvalid_1's binary_logloss: 0.165294\n",
      "Early stopping, best iteration is:\n",
      "[329]\ttraining's auc: 0.940606\ttraining's binary_logloss: 0.149935\tvalid_1's auc: 0.914594\tvalid_1's binary_logloss: 0.165975\n",
      "err_lgm:  0.4916467780429595\n",
      "Training until validation scores don't improve for 200 rounds\n",
      "[200]\ttraining's auc: 0.929413\ttraining's binary_logloss: 0.1607\tvalid_1's auc: 0.911996\tvalid_1's binary_logloss: 0.16689\n",
      "[400]\ttraining's auc: 0.94378\ttraining's binary_logloss: 0.146884\tvalid_1's auc: 0.91575\tvalid_1's binary_logloss: 0.161325\n",
      "Early stopping, best iteration is:\n",
      "[353]\ttraining's auc: 0.940864\ttraining's binary_logloss: 0.149497\tvalid_1's auc: 0.916111\tvalid_1's binary_logloss: 0.161717\n",
      "err_lgm:  0.5174825174825174\n",
      "Training until validation scores don't improve for 200 rounds\n",
      "[200]\ttraining's auc: 0.929427\ttraining's binary_logloss: 0.160772\tvalid_1's auc: 0.910407\tvalid_1's binary_logloss: 0.169183\n",
      "[400]\ttraining's auc: 0.945117\ttraining's binary_logloss: 0.146134\tvalid_1's auc: 0.913171\tvalid_1's binary_logloss: 0.162411\n",
      "[600]\ttraining's auc: 0.955264\ttraining's binary_logloss: 0.137046\tvalid_1's auc: 0.91207\tvalid_1's binary_logloss: 0.16202\n",
      "Early stopping, best iteration is:\n",
      "[420]\ttraining's auc: 0.946212\ttraining's binary_logloss: 0.145245\tvalid_1's auc: 0.913362\tvalid_1's binary_logloss: 0.162338\n",
      "err_lgm:  0.5165876777251185\n",
      "Training until validation scores don't improve for 200 rounds\n",
      "[200]\ttraining's auc: 0.929162\ttraining's binary_logloss: 0.160621\tvalid_1's auc: 0.902931\tvalid_1's binary_logloss: 0.17609\n",
      "[400]\ttraining's auc: 0.944632\ttraining's binary_logloss: 0.146602\tvalid_1's auc: 0.905392\tvalid_1's binary_logloss: 0.170144\n",
      "[600]\ttraining's auc: 0.953632\ttraining's binary_logloss: 0.13785\tvalid_1's auc: 0.907673\tvalid_1's binary_logloss: 0.167916\n",
      "[800]\ttraining's auc: 0.960596\ttraining's binary_logloss: 0.131019\tvalid_1's auc: 0.907353\tvalid_1's binary_logloss: 0.167753\n",
      "Early stopping, best iteration is:\n",
      "[669]\ttraining's auc: 0.956191\ttraining's binary_logloss: 0.135451\tvalid_1's auc: 0.908108\tvalid_1's binary_logloss: 0.167727\n",
      "err_lgm:  0.46228710462287104\n",
      "Training until validation scores don't improve for 200 rounds\n",
      "[200]\ttraining's auc: 0.929552\ttraining's binary_logloss: 0.160258\tvalid_1's auc: 0.909264\tvalid_1's binary_logloss: 0.170627\n",
      "[400]\ttraining's auc: 0.943568\ttraining's binary_logloss: 0.146851\tvalid_1's auc: 0.914068\tvalid_1's binary_logloss: 0.16333\n",
      "Early stopping, best iteration is:\n",
      "[363]\ttraining's auc: 0.941406\ttraining's binary_logloss: 0.148861\tvalid_1's auc: 0.914219\tvalid_1's binary_logloss: 0.16379\n",
      "err_lgm:  0.5092592592592592\n",
      "Training until validation scores don't improve for 200 rounds\n",
      "[200]\ttraining's auc: 0.929013\ttraining's binary_logloss: 0.159974\tvalid_1's auc: 0.910201\tvalid_1's binary_logloss: 0.171304\n",
      "[400]\ttraining's auc: 0.944746\ttraining's binary_logloss: 0.1462\tvalid_1's auc: 0.913106\tvalid_1's binary_logloss: 0.16585\n",
      "[600]\ttraining's auc: 0.954441\ttraining's binary_logloss: 0.137416\tvalid_1's auc: 0.914143\tvalid_1's binary_logloss: 0.164816\n",
      "Early stopping, best iteration is:\n",
      "[539]\ttraining's auc: 0.951358\ttraining's binary_logloss: 0.139977\tvalid_1's auc: 0.91452\tvalid_1's binary_logloss: 0.164461\n",
      "err_lgm:  0.4832535885167464\n",
      "Training until validation scores don't improve for 200 rounds\n",
      "[200]\ttraining's auc: 0.929605\ttraining's binary_logloss: 0.16012\tvalid_1's auc: 0.898844\tvalid_1's binary_logloss: 0.175288\n",
      "[400]\ttraining's auc: 0.944489\ttraining's binary_logloss: 0.146263\tvalid_1's auc: 0.903411\tvalid_1's binary_logloss: 0.169384\n",
      "[600]\ttraining's auc: 0.954197\ttraining's binary_logloss: 0.137374\tvalid_1's auc: 0.903574\tvalid_1's binary_logloss: 0.168636\n",
      "Early stopping, best iteration is:\n",
      "[459]\ttraining's auc: 0.947905\ttraining's binary_logloss: 0.143302\tvalid_1's auc: 0.9039\tvalid_1's binary_logloss: 0.168892\n",
      "err_lgm:  0.48192771084337355\n",
      "Training until validation scores don't improve for 200 rounds\n",
      "[200]\ttraining's auc: 0.930831\ttraining's binary_logloss: 0.15967\tvalid_1's auc: 0.89946\tvalid_1's binary_logloss: 0.175724\n",
      "Early stopping, best iteration is:\n",
      "[183]\ttraining's auc: 0.928638\ttraining's binary_logloss: 0.161948\tvalid_1's auc: 0.900031\tvalid_1's binary_logloss: 0.177181\n",
      "err_lgm:  0.44334975369458124\n",
      "Training until validation scores don't improve for 200 rounds\n",
      "[200]\ttraining's auc: 0.928759\ttraining's binary_logloss: 0.161246\tvalid_1's auc: 0.91739\tvalid_1's binary_logloss: 0.164771\n",
      "[400]\ttraining's auc: 0.944247\ttraining's binary_logloss: 0.146793\tvalid_1's auc: 0.92087\tvalid_1's binary_logloss: 0.157851\n",
      "Early stopping, best iteration is:\n",
      "[344]\ttraining's auc: 0.940436\ttraining's binary_logloss: 0.150098\tvalid_1's auc: 0.921483\tvalid_1's binary_logloss: 0.158463\n",
      "err_lgm:  0.530232558139535\n",
      "Training until validation scores don't improve for 200 rounds\n",
      "[200]\ttraining's auc: 0.929251\ttraining's binary_logloss: 0.160793\tvalid_1's auc: 0.913281\tvalid_1's binary_logloss: 0.1678\n",
      "[400]\ttraining's auc: 0.944066\ttraining's binary_logloss: 0.147172\tvalid_1's auc: 0.913118\tvalid_1's binary_logloss: 0.162265\n",
      "Early stopping, best iteration is:\n",
      "[211]\ttraining's auc: 0.930202\ttraining's binary_logloss: 0.159577\tvalid_1's auc: 0.913752\tvalid_1's binary_logloss: 0.166897\n",
      "err_lgm:  0.485576923076923\n",
      "Training until validation scores don't improve for 200 rounds\n",
      "[200]\ttraining's auc: 0.928768\ttraining's binary_logloss: 0.161006\tvalid_1's auc: 0.920384\tvalid_1's binary_logloss: 0.16161\n",
      "[400]\ttraining's auc: 0.944241\ttraining's binary_logloss: 0.147068\tvalid_1's auc: 0.920314\tvalid_1's binary_logloss: 0.155282\n",
      "Early stopping, best iteration is:\n",
      "[331]\ttraining's auc: 0.939528\ttraining's binary_logloss: 0.151142\tvalid_1's auc: 0.921291\tvalid_1's binary_logloss: 0.156271\n",
      "err_lgm:  0.5361305361305362\n",
      "Training until validation scores don't improve for 200 rounds\n",
      "[200]\ttraining's auc: 0.929908\ttraining's binary_logloss: 0.160307\tvalid_1's auc: 0.916934\tvalid_1's binary_logloss: 0.16645\n",
      "[400]\ttraining's auc: 0.943939\ttraining's binary_logloss: 0.146947\tvalid_1's auc: 0.919259\tvalid_1's binary_logloss: 0.160607\n",
      "[600]\ttraining's auc: 0.953036\ttraining's binary_logloss: 0.138415\tvalid_1's auc: 0.919213\tvalid_1's binary_logloss: 0.159551\n",
      "Early stopping, best iteration is:\n",
      "[508]\ttraining's auc: 0.949136\ttraining's binary_logloss: 0.142062\tvalid_1's auc: 0.920251\tvalid_1's binary_logloss: 0.159448\n",
      "err_lgm:  0.5070422535211268\n",
      "Training until validation scores don't improve for 200 rounds\n",
      "[200]\ttraining's auc: 0.929064\ttraining's binary_logloss: 0.160325\tvalid_1's auc: 0.914265\tvalid_1's binary_logloss: 0.166507\n",
      "[400]\ttraining's auc: 0.944604\ttraining's binary_logloss: 0.146373\tvalid_1's auc: 0.917669\tvalid_1's binary_logloss: 0.16058\n",
      "Early stopping, best iteration is:\n",
      "[339]\ttraining's auc: 0.94072\ttraining's binary_logloss: 0.150097\tvalid_1's auc: 0.917855\tvalid_1's binary_logloss: 0.16143\n",
      "err_lgm:  0.5059101654846336\n",
      "Training until validation scores don't improve for 200 rounds\n",
      "[200]\ttraining's auc: 0.928834\ttraining's binary_logloss: 0.160569\tvalid_1's auc: 0.91517\tvalid_1's binary_logloss: 0.167578\n",
      "[400]\ttraining's auc: 0.943868\ttraining's binary_logloss: 0.146819\tvalid_1's auc: 0.917855\tvalid_1's binary_logloss: 0.160774\n",
      "[600]\ttraining's auc: 0.953147\ttraining's binary_logloss: 0.138182\tvalid_1's auc: 0.918713\tvalid_1's binary_logloss: 0.158788\n",
      "[800]\ttraining's auc: 0.961067\ttraining's binary_logloss: 0.130841\tvalid_1's auc: 0.919272\tvalid_1's binary_logloss: 0.158116\n",
      "[1000]\ttraining's auc: 0.967438\ttraining's binary_logloss: 0.124217\tvalid_1's auc: 0.917762\tvalid_1's binary_logloss: 0.158804\n",
      "Early stopping, best iteration is:\n",
      "[801]\ttraining's auc: 0.961115\ttraining's binary_logloss: 0.130803\tvalid_1's auc: 0.919322\tvalid_1's binary_logloss: 0.158086\n",
      "err_lgm:  0.49172576832151293\n",
      "Training until validation scores don't improve for 200 rounds\n",
      "[200]\ttraining's auc: 0.92954\ttraining's binary_logloss: 0.159796\tvalid_1's auc: 0.90029\tvalid_1's binary_logloss: 0.175605\n"
     ]
    },
    {
     "name": "stdout",
     "output_type": "stream",
     "text": [
      "[400]\ttraining's auc: 0.944439\ttraining's binary_logloss: 0.146352\tvalid_1's auc: 0.903545\tvalid_1's binary_logloss: 0.171127\n",
      "[600]\ttraining's auc: 0.953347\ttraining's binary_logloss: 0.137548\tvalid_1's auc: 0.905357\tvalid_1's binary_logloss: 0.169771\n",
      "[800]\ttraining's auc: 0.960227\ttraining's binary_logloss: 0.130633\tvalid_1's auc: 0.904989\tvalid_1's binary_logloss: 0.170173\n",
      "Early stopping, best iteration is:\n",
      "[699]\ttraining's auc: 0.956907\ttraining's binary_logloss: 0.134044\tvalid_1's auc: 0.906157\tvalid_1's binary_logloss: 0.169347\n",
      "err_lgm:  0.4882629107981221\n"
     ]
    }
   ],
   "source": [
    "err = []\n",
    "y_pred_tot_lgm = []\n",
    "\n",
    "from sklearn.model_selection import StratifiedKFold\n",
    "\n",
    "fold = StratifiedKFold(n_splits=15)\n",
    "i = 1\n",
    "for train_index, test_index in fold.split(train_new, y):\n",
    "    x_train, x_val = train_new.iloc[train_index], train_new.iloc[test_index]\n",
    "    y_train, y_val = y[train_index], y[test_index]\n",
    "    m = LGBMClassifier(boosting_type='gbdt',\n",
    "                       max_depth=5,\n",
    "                       learning_rate=0.05,\n",
    "                       n_estimators=5000,\n",
    "                       min_child_weight=0.01,\n",
    "                       colsample_bytree=0.5,\n",
    "                       random_state=1994)\n",
    "    m.fit(x_train, y_train,\n",
    "          eval_set=[(x_train,y_train),(x_val, y_val)],\n",
    "          early_stopping_rounds=200,\n",
    "          eval_metric='auc',\n",
    "          verbose=200)\n",
    "    pred_y = m.predict_proba(x_val)[:,1]\n",
    "    print(\"err_lgm: \",metrics.f1_score(y_val,pred_y.round()))\n",
    "    err.append(metrics.f1_score(y_val, pred_y.round()))\n",
    "    pred_test = m.predict(test_new)\n",
    "    i = i + 1\n",
    "    y_pred_tot_lgm.append(pred_test)"
   ]
  },
  {
   "cell_type": "code",
   "execution_count": 35,
   "metadata": {},
   "outputs": [],
   "source": [
    "from sklearn import metrics"
   ]
  },
  {
   "cell_type": "code",
   "execution_count": 36,
   "metadata": {},
   "outputs": [
    {
     "name": "stdout",
     "output_type": "stream",
     "text": [
      "0:\ttest: 0.7579443\ttest1: 0.7528854\tbest: 0.7528854 (0)\ttotal: 17.2ms\tremaining: 1m 26s\n",
      "200:\ttest: 0.9116452\ttest1: 0.9078586\tbest: 0.9078586 (200)\ttotal: 4.79s\tremaining: 1m 54s\n",
      "400:\ttest: 0.9212125\ttest1: 0.9107473\tbest: 0.9107569 (396)\ttotal: 11.1s\tremaining: 2m 7s\n",
      "600:\ttest: 0.9279838\ttest1: 0.9117770\tbest: 0.9123887 (473)\ttotal: 15.9s\tremaining: 1m 56s\n",
      "Stopped by overfitting detector  (200 iterations wait)\n",
      "\n",
      "bestTest = 0.9123886882\n",
      "bestIteration = 473\n",
      "\n",
      "Shrink model to first 474 iterations.\n",
      "err_cb:  0.4782608695652174\n",
      "0:\ttest: 0.7585148\ttest1: 0.7958833\tbest: 0.7958833 (0)\ttotal: 30.6ms\tremaining: 2m 32s\n",
      "200:\ttest: 0.9111254\ttest1: 0.9077224\tbest: 0.9077320 (196)\ttotal: 5.19s\tremaining: 2m 3s\n",
      "400:\ttest: 0.9210016\ttest1: 0.9151279\tbest: 0.9151279 (400)\ttotal: 9.67s\tremaining: 1m 50s\n",
      "600:\ttest: 0.9273125\ttest1: 0.9176868\tbest: 0.9176897 (599)\ttotal: 13.9s\tremaining: 1m 41s\n",
      "800:\ttest: 0.9324664\ttest1: 0.9181221\tbest: 0.9183953 (724)\ttotal: 18.7s\tremaining: 1m 37s\n",
      "Stopped by overfitting detector  (200 iterations wait)\n",
      "\n",
      "bestTest = 0.9183953075\n",
      "bestIteration = 724\n",
      "\n",
      "Shrink model to first 725 iterations.\n",
      "err_cb:  0.5186915887850467\n",
      "0:\ttest: 0.7629209\ttest1: 0.7328042\tbest: 0.7328042 (0)\ttotal: 24.1ms\tremaining: 2m\n",
      "200:\ttest: 0.9119588\ttest1: 0.9004402\tbest: 0.9004402 (200)\ttotal: 4.26s\tremaining: 1m 41s\n",
      "400:\ttest: 0.9213392\ttest1: 0.9056630\tbest: 0.9058500 (385)\ttotal: 8.81s\tremaining: 1m 41s\n",
      "600:\ttest: 0.9274259\ttest1: 0.9071893\tbest: 0.9072795 (573)\ttotal: 13.3s\tremaining: 1m 37s\n",
      "800:\ttest: 0.9322880\ttest1: 0.9099649\tbest: 0.9099669 (796)\ttotal: 17.2s\tremaining: 1m 30s\n",
      "1000:\ttest: 0.9366121\ttest1: 0.9116121\tbest: 0.9117147 (999)\ttotal: 21.4s\tremaining: 1m 25s\n",
      "1200:\ttest: 0.9403280\ttest1: 0.9116159\tbest: 0.9119016 (1060)\ttotal: 25.7s\tremaining: 1m 21s\n",
      "1400:\ttest: 0.9435940\ttest1: 0.9119659\tbest: 0.9122238 (1330)\ttotal: 29.7s\tremaining: 1m 16s\n",
      "Stopped by overfitting detector  (200 iterations wait)\n",
      "\n",
      "bestTest = 0.9122237818\n",
      "bestIteration = 1330\n",
      "\n",
      "Shrink model to first 1331 iterations.\n",
      "err_cb:  0.508235294117647\n",
      "0:\ttest: 0.7612733\ttest1: 0.7552923\tbest: 0.7552923 (0)\ttotal: 22.1ms\tremaining: 1m 50s\n",
      "200:\ttest: 0.9121058\ttest1: 0.8990029\tbest: 0.8990029 (200)\ttotal: 4.59s\tremaining: 1m 49s\n",
      "400:\ttest: 0.9218038\ttest1: 0.9055299\tbest: 0.9056309 (381)\ttotal: 8.67s\tremaining: 1m 39s\n",
      "600:\ttest: 0.9278830\ttest1: 0.9070842\tbest: 0.9072362 (520)\ttotal: 13.4s\tremaining: 1m 37s\n",
      "Stopped by overfitting detector  (200 iterations wait)\n",
      "\n",
      "bestTest = 0.9072362175\n",
      "bestIteration = 520\n",
      "\n",
      "Shrink model to first 521 iterations.\n",
      "err_cb:  0.4619164619164619\n",
      "0:\ttest: 0.7616041\ttest1: 0.7495078\tbest: 0.7495078 (0)\ttotal: 34.6ms\tremaining: 2m 52s\n",
      "200:\ttest: 0.9114747\ttest1: 0.9043997\tbest: 0.9045671 (195)\ttotal: 4.88s\tremaining: 1m 56s\n",
      "400:\ttest: 0.9209420\ttest1: 0.9113486\tbest: 0.9113899 (397)\ttotal: 9.27s\tremaining: 1m 46s\n",
      "600:\ttest: 0.9271832\ttest1: 0.9119819\tbest: 0.9119819 (600)\ttotal: 13.6s\tremaining: 1m 39s\n",
      "800:\ttest: 0.9318665\ttest1: 0.9126889\tbest: 0.9128534 (768)\ttotal: 18.1s\tremaining: 1m 35s\n",
      "1000:\ttest: 0.9357560\ttest1: 0.9130294\tbest: 0.9132160 (983)\ttotal: 23.7s\tremaining: 1m 34s\n",
      "1200:\ttest: 0.9393024\ttest1: 0.9133276\tbest: 0.9133372 (1199)\ttotal: 29s\tremaining: 1m 31s\n",
      "1400:\ttest: 0.9426389\ttest1: 0.9131602\tbest: 0.9135276 (1269)\ttotal: 33.3s\tremaining: 1m 25s\n",
      "Stopped by overfitting detector  (200 iterations wait)\n",
      "\n",
      "bestTest = 0.9135276188\n",
      "bestIteration = 1269\n",
      "\n",
      "Shrink model to first 1270 iterations.\n",
      "err_cb:  0.5159817351598174\n",
      "0:\ttest: 0.7603434\ttest1: 0.7691702\tbest: 0.7691702 (0)\ttotal: 24.6ms\tremaining: 2m 3s\n",
      "200:\ttest: 0.9117043\ttest1: 0.9109230\tbest: 0.9109230 (200)\ttotal: 4.63s\tremaining: 1m 50s\n",
      "400:\ttest: 0.9218090\ttest1: 0.9134949\tbest: 0.9137190 (371)\ttotal: 9.52s\tremaining: 1m 49s\n",
      "600:\ttest: 0.9280381\ttest1: 0.9137075\tbest: 0.9138114 (441)\ttotal: 14.3s\tremaining: 1m 45s\n",
      "800:\ttest: 0.9324575\ttest1: 0.9139018\tbest: 0.9140461 (750)\ttotal: 18.9s\tremaining: 1m 39s\n",
      "1000:\ttest: 0.9366955\ttest1: 0.9136719\tbest: 0.9141047 (812)\ttotal: 23.2s\tremaining: 1m 32s\n",
      "Stopped by overfitting detector  (200 iterations wait)\n",
      "\n",
      "bestTest = 0.9141047233\n",
      "bestIteration = 812\n",
      "\n",
      "Shrink model to first 813 iterations.\n",
      "err_cb:  0.4905660377358491\n",
      "0:\ttest: 0.7619544\ttest1: 0.7477135\tbest: 0.7477135 (0)\ttotal: 26.9ms\tremaining: 2m 14s\n",
      "200:\ttest: 0.9117545\ttest1: 0.8964396\tbest: 0.8964396 (200)\ttotal: 4.48s\tremaining: 1m 47s\n",
      "400:\ttest: 0.9220417\ttest1: 0.9010458\tbest: 0.9013969 (388)\ttotal: 9.06s\tremaining: 1m 43s\n",
      "600:\ttest: 0.9282375\ttest1: 0.9018461\tbest: 0.9021106 (486)\ttotal: 13.7s\tremaining: 1m 40s\n",
      "Stopped by overfitting detector  (200 iterations wait)\n",
      "\n",
      "bestTest = 0.9021105675\n",
      "bestIteration = 486\n",
      "\n",
      "Shrink model to first 487 iterations.\n",
      "err_cb:  0.4844124700239808\n",
      "0:\ttest: 0.7612134\ttest1: 0.7583678\tbest: 0.7583678 (0)\ttotal: 26.4ms\tremaining: 2m 12s\n",
      "200:\ttest: 0.9119842\ttest1: 0.8994852\tbest: 0.8999306 (193)\ttotal: 4.34s\tremaining: 1m 43s\n",
      "400:\ttest: 0.9219473\ttest1: 0.9022981\tbest: 0.9023020 (399)\ttotal: 8.98s\tremaining: 1m 42s\n",
      "600:\ttest: 0.9284816\ttest1: 0.9008775\tbest: 0.9023337 (402)\ttotal: 13.5s\tremaining: 1m 38s\n",
      "Stopped by overfitting detector  (200 iterations wait)\n",
      "\n",
      "bestTest = 0.9023337145\n",
      "bestIteration = 402\n",
      "\n",
      "Shrink model to first 403 iterations.\n",
      "err_cb:  0.4904761904761905\n",
      "0:\ttest: 0.7616790\ttest1: 0.7505456\tbest: 0.7505456 (0)\ttotal: 36.1ms\tremaining: 3m\n",
      "200:\ttest: 0.9116789\ttest1: 0.9085905\tbest: 0.9086665 (197)\ttotal: 4.79s\tremaining: 1m 54s\n",
      "400:\ttest: 0.9208569\ttest1: 0.9146645\tbest: 0.9147107 (399)\ttotal: 8.67s\tremaining: 1m 39s\n",
      "600:\ttest: 0.9272016\ttest1: 0.9162265\tbest: 0.9164285 (565)\ttotal: 12.6s\tremaining: 1m 31s\n",
      "800:\ttest: 0.9323264\ttest1: 0.9171307\tbest: 0.9171307 (800)\ttotal: 16.4s\tremaining: 1m 26s\n",
      "1000:\ttest: 0.9361444\ttest1: 0.9174962\tbest: 0.9176443 (881)\ttotal: 20.3s\tremaining: 1m 21s\n",
      "Stopped by overfitting detector  (200 iterations wait)\n",
      "\n",
      "bestTest = 0.9176442978\n",
      "bestIteration = 881\n",
      "\n",
      "Shrink model to first 882 iterations.\n",
      "err_cb:  0.5370370370370371\n",
      "0:\ttest: 0.7614106\ttest1: 0.7551682\tbest: 0.7551682 (0)\ttotal: 24ms\tremaining: 1m 59s\n",
      "200:\ttest: 0.9110876\ttest1: 0.9066803\tbest: 0.9066803 (200)\ttotal: 4.5s\tremaining: 1m 47s\n",
      "400:\ttest: 0.9214103\ttest1: 0.9132304\tbest: 0.9132439 (397)\ttotal: 9.32s\tremaining: 1m 46s\n",
      "600:\ttest: 0.9276767\ttest1: 0.9131612\tbest: 0.9132708 (402)\ttotal: 13.5s\tremaining: 1m 38s\n",
      "Stopped by overfitting detector  (200 iterations wait)\n",
      "\n",
      "bestTest = 0.9132708073\n",
      "bestIteration = 402\n",
      "\n",
      "Shrink model to first 403 iterations.\n",
      "err_cb:  0.5118483412322274\n",
      "0:\ttest: 0.7609239\ttest1: 0.7608947\tbest: 0.7608947 (0)\ttotal: 26.7ms\tremaining: 2m 13s\n",
      "200:\ttest: 0.9105535\ttest1: 0.9147140\tbest: 0.9149767 (191)\ttotal: 4.27s\tremaining: 1m 41s\n",
      "400:\ttest: 0.9205592\ttest1: 0.9195141\tbest: 0.9196276 (391)\ttotal: 8.91s\tremaining: 1m 42s\n",
      "600:\ttest: 0.9273178\ttest1: 0.9199259\tbest: 0.9208832 (520)\ttotal: 12.8s\tremaining: 1m 33s\n",
      "Stopped by overfitting detector  (200 iterations wait)\n",
      "\n",
      "bestTest = 0.9208831957\n",
      "bestIteration = 520\n",
      "\n",
      "Shrink model to first 521 iterations.\n",
      "err_cb:  0.5471264367816092\n",
      "0:\ttest: 0.7612075\ttest1: 0.7568845\tbest: 0.7568845 (0)\ttotal: 25.5ms\tremaining: 2m 7s\n",
      "200:\ttest: 0.9114049\ttest1: 0.9095710\tbest: 0.9096258 (199)\ttotal: 4.16s\tremaining: 1m 39s\n",
      "400:\ttest: 0.9208980\ttest1: 0.9150854\tbest: 0.9150854 (399)\ttotal: 8.64s\tremaining: 1m 39s\n",
      "600:\ttest: 0.9273399\ttest1: 0.9161235\tbest: 0.9163949 (511)\ttotal: 12.8s\tremaining: 1m 33s\n",
      "800:\ttest: 0.9318850\ttest1: 0.9168557\tbest: 0.9168557 (800)\ttotal: 17s\tremaining: 1m 28s\n",
      "1000:\ttest: 0.9358290\ttest1: 0.9160331\tbest: 0.9168769 (801)\ttotal: 21.1s\tremaining: 1m 24s\n",
      "Stopped by overfitting detector  (200 iterations wait)\n",
      "\n",
      "bestTest = 0.9168768918\n",
      "bestIteration = 801\n",
      "\n",
      "Shrink model to first 802 iterations.\n",
      "err_cb:  0.5152224824355972\n",
      "0:\ttest: 0.7611704\ttest1: 0.7584056\tbest: 0.7584056 (0)\ttotal: 24.6ms\tremaining: 2m 3s\n",
      "200:\ttest: 0.9111474\ttest1: 0.9083380\tbest: 0.9083380 (200)\ttotal: 4.5s\tremaining: 1m 47s\n",
      "400:\ttest: 0.9213678\ttest1: 0.9160427\tbest: 0.9160610 (399)\ttotal: 8.76s\tremaining: 1m 40s\n",
      "600:\ttest: 0.9277857\ttest1: 0.9195237\tbest: 0.9195237 (600)\ttotal: 13.5s\tremaining: 1m 38s\n",
      "800:\ttest: 0.9326492\ttest1: 0.9194708\tbest: 0.9197989 (687)\ttotal: 17.9s\tremaining: 1m 33s\n",
      "Stopped by overfitting detector  (200 iterations wait)\n",
      "\n",
      "bestTest = 0.9197988766\n",
      "bestIteration = 687\n",
      "\n",
      "Shrink model to first 688 iterations.\n",
      "err_cb:  0.5223529411764707\n"
     ]
    },
    {
     "name": "stdout",
     "output_type": "stream",
     "text": [
      "0:\ttest: 0.7593274\ttest1: 0.7843932\tbest: 0.7843932 (0)\ttotal: 26.6ms\tremaining: 2m 13s\n",
      "200:\ttest: 0.9116297\ttest1: 0.9108280\tbest: 0.9109179 (197)\ttotal: 4.34s\tremaining: 1m 43s\n",
      "400:\ttest: 0.9210655\ttest1: 0.9147621\tbest: 0.9147929 (399)\ttotal: 8.93s\tremaining: 1m 42s\n",
      "600:\ttest: 0.9275099\ttest1: 0.9152528\tbest: 0.9155049 (526)\ttotal: 15.7s\tremaining: 1m 54s\n",
      "800:\ttest: 0.9319618\ttest1: 0.9158753\tbest: 0.9158984 (795)\ttotal: 22.2s\tremaining: 1m 56s\n",
      "1000:\ttest: 0.9361815\ttest1: 0.9165199\tbest: 0.9165199 (1000)\ttotal: 26.1s\tremaining: 1m 44s\n",
      "1200:\ttest: 0.9399055\ttest1: 0.9173628\tbest: 0.9174571 (1116)\ttotal: 30.1s\tremaining: 1m 35s\n",
      "1400:\ttest: 0.9432477\ttest1: 0.9171809\tbest: 0.9174927 (1236)\ttotal: 34.1s\tremaining: 1m 27s\n",
      "Stopped by overfitting detector  (200 iterations wait)\n",
      "\n",
      "bestTest = 0.9174926541\n",
      "bestIteration = 1236\n",
      "\n",
      "Shrink model to first 1237 iterations.\n",
      "err_cb:  0.49882352941176467\n",
      "0:\ttest: 0.7610437\ttest1: 0.7594274\tbest: 0.7594274 (0)\ttotal: 27.9ms\tremaining: 2m 19s\n",
      "200:\ttest: 0.9125239\ttest1: 0.8980817\tbest: 0.8980836 (199)\ttotal: 4.64s\tremaining: 1m 50s\n",
      "400:\ttest: 0.9225708\ttest1: 0.9008998\tbest: 0.9008998 (400)\ttotal: 9.54s\tremaining: 1m 49s\n",
      "600:\ttest: 0.9284402\ttest1: 0.9018273\tbest: 0.9019216 (562)\ttotal: 15.4s\tremaining: 1m 52s\n",
      "800:\ttest: 0.9330433\ttest1: 0.9018234\tbest: 0.9023093 (694)\ttotal: 20.8s\tremaining: 1m 49s\n",
      "Stopped by overfitting detector  (200 iterations wait)\n",
      "\n",
      "bestTest = 0.9023093013\n",
      "bestIteration = 694\n",
      "\n",
      "Shrink model to first 695 iterations.\n",
      "err_cb:  0.4834123222748815\n"
     ]
    }
   ],
   "source": [
    "from catboost import CatBoostClassifier,Pool, cv\n",
    "errCB = []\n",
    "y_pred_tot_cb = []\n",
    "from sklearn.model_selection import KFold,StratifiedKFold\n",
    "\n",
    "fold = StratifiedKFold(n_splits=15)\n",
    "i = 1\n",
    "for train_index, test_index in fold.split(train_new,y):\n",
    "    x_train, x_val = train_new.iloc[train_index], train_new.iloc[test_index]\n",
    "    y_train, y_val = y[train_index], y[test_index]\n",
    "    m = CatBoostClassifier(n_estimators=5000,\n",
    "                           random_state=1994,\n",
    "                           eval_metric='AUC',\n",
    "                           learning_rate=0.03, max_depth=5)\n",
    "    m.fit(x_train, y_train,\n",
    "          eval_set=[(x_train,y_train),(x_val, y_val)],\n",
    "          early_stopping_rounds=200,\n",
    "          verbose=200)\n",
    "    pred_y = m.predict_proba(x_val)[:,-1]\n",
    "    print(\"err_cb: \",metrics.f1_score(y_val,pred_y.round()))\n",
    "    errCB.append(metrics.f1_score(y_val,pred_y.round()))\n",
    "    pred_test = m.predict(test_new)\n",
    "    i = i + 1\n",
    "    y_pred_tot_cb.append(pred_test)\n"
   ]
  },
  {
   "cell_type": "code",
   "execution_count": 1,
   "metadata": {},
   "outputs": [
    {
     "name": "stdout",
     "output_type": "stream",
     "text": [
      "Collecting catboost\n",
      "  Using cached catboost-0.23-cp37-none-win_amd64.whl (63.6 MB)\n",
      "Collecting graphviz\n",
      "  Using cached graphviz-0.14-py2.py3-none-any.whl (18 kB)\n",
      "Requirement already satisfied: six in c:\\users\\vishe\\anaconda3\\lib\\site-packages (from catboost) (1.12.0)\n",
      "Requirement already satisfied: scipy in c:\\users\\vishe\\anaconda3\\lib\\site-packages (from catboost) (1.2.1)\n",
      "Requirement already satisfied: plotly in c:\\users\\vishe\\anaconda3\\lib\\site-packages (from catboost) (4.7.1)\n",
      "Requirement already satisfied: pandas>=0.24.0 in c:\\users\\vishe\\anaconda3\\lib\\site-packages (from catboost) (0.24.2)\n",
      "Requirement already satisfied: numpy>=1.16.0 in c:\\users\\vishe\\anaconda3\\lib\\site-packages (from catboost) (1.16.2)\n",
      "Requirement already satisfied: matplotlib in c:\\users\\vishe\\anaconda3\\lib\\site-packages (from catboost) (3.0.3)\n",
      "Requirement already satisfied: retrying>=1.3.3 in c:\\users\\vishe\\anaconda3\\lib\\site-packages (from plotly->catboost) (1.3.3)\n",
      "Requirement already satisfied: pytz>=2011k in c:\\users\\vishe\\anaconda3\\lib\\site-packages (from pandas>=0.24.0->catboost) (2018.9)\n",
      "Requirement already satisfied: python-dateutil>=2.5.0 in c:\\users\\vishe\\anaconda3\\lib\\site-packages (from pandas>=0.24.0->catboost) (2.8.0)\n",
      "Requirement already satisfied: cycler>=0.10 in c:\\users\\vishe\\anaconda3\\lib\\site-packages (from matplotlib->catboost) (0.10.0)\n",
      "Requirement already satisfied: kiwisolver>=1.0.1 in c:\\users\\vishe\\anaconda3\\lib\\site-packages (from matplotlib->catboost) (1.0.1)\n",
      "Requirement already satisfied: pyparsing!=2.0.4,!=2.1.2,!=2.1.6,>=2.0.1 in c:\\users\\vishe\\anaconda3\\lib\\site-packages (from matplotlib->catboost) (2.3.1)\n",
      "Requirement already satisfied: setuptools in c:\\users\\vishe\\anaconda3\\lib\\site-packages (from kiwisolver>=1.0.1->matplotlib->catboost) (40.8.0)\n",
      "Installing collected packages: graphviz, catboost\n",
      "Successfully installed catboost-0.23 graphviz-0.14\n"
     ]
    },
    {
     "name": "stderr",
     "output_type": "stream",
     "text": [
      "WARNING: You are using pip version 20.0.2; however, version 20.1 is available.\n",
      "You should consider upgrading via the 'c:\\users\\vishe\\anaconda3\\python.exe -m pip install --upgrade pip' command.\n"
     ]
    }
   ],
   "source": [
    "!pip install catboost"
   ]
  },
  {
   "cell_type": "code",
   "execution_count": 37,
   "metadata": {},
   "outputs": [
    {
     "data": {
      "text/plain": [
       "array([0, 0, 0, ..., 0, 0, 1], dtype=int64)"
      ]
     },
     "execution_count": 37,
     "metadata": {},
     "output_type": "execute_result"
    }
   ],
   "source": [
    "y_pred_tot_cb[10]"
   ]
  },
  {
   "cell_type": "code",
   "execution_count": null,
   "metadata": {},
   "outputs": [],
   "source": []
  },
  {
   "cell_type": "code",
   "execution_count": 38,
   "metadata": {},
   "outputs": [],
   "source": [
    "Final = pd.DataFrame([test_new.employee_id, pd.Series(y_pred_tot_cb[10])]).T"
   ]
  },
  {
   "cell_type": "code",
   "execution_count": 39,
   "metadata": {},
   "outputs": [],
   "source": [
    "Final.columns = ['employee_id', 'is_promoted']"
   ]
  },
  {
   "cell_type": "code",
   "execution_count": 40,
   "metadata": {},
   "outputs": [],
   "source": [
    "Final.to_csv(r'Downloads\\Final8.csv', index = False)"
   ]
  },
  {
   "cell_type": "code",
   "execution_count": 45,
   "metadata": {},
   "outputs": [
    {
     "ename": "ModuleNotFoundError",
     "evalue": "No module named 'tensorflow'",
     "output_type": "error",
     "traceback": [
      "\u001b[1;31m---------------------------------------------------------------------------\u001b[0m",
      "\u001b[1;31mModuleNotFoundError\u001b[0m                       Traceback (most recent call last)",
      "\u001b[1;32m<ipython-input-45-64156d691fe5>\u001b[0m in \u001b[0;36m<module>\u001b[1;34m\u001b[0m\n\u001b[1;32m----> 1\u001b[1;33m \u001b[1;32mimport\u001b[0m \u001b[0mtensorflow\u001b[0m \u001b[1;32mas\u001b[0m \u001b[0mtf\u001b[0m\u001b[1;33m\u001b[0m\u001b[1;33m\u001b[0m\u001b[0m\n\u001b[0m",
      "\u001b[1;31mModuleNotFoundError\u001b[0m: No module named 'tensorflow'"
     ]
    }
   ],
   "source": [
    "import tensorflow as tf"
   ]
  },
  {
   "cell_type": "code",
   "execution_count": 42,
   "metadata": {},
   "outputs": [
    {
     "name": "stdout",
     "output_type": "stream",
     "text": [
      "Collecting tensorflow\n",
      "  Downloading tensorflow-2.2.0-cp37-cp37m-win_amd64.whl (459.2 MB)\n",
      "Collecting tensorboard<2.3.0,>=2.2.0\n",
      "  Downloading tensorboard-2.2.1-py3-none-any.whl (3.0 MB)\n",
      "Collecting opt-einsum>=2.3.2\n",
      "  Downloading opt_einsum-3.2.1-py3-none-any.whl (63 kB)\n",
      "Collecting protobuf>=3.8.0\n",
      "  Downloading protobuf-3.11.3-cp37-cp37m-win_amd64.whl (1.0 MB)\n",
      "Collecting tensorflow-estimator<2.3.0,>=2.2.0\n",
      "  Downloading tensorflow_estimator-2.2.0-py2.py3-none-any.whl (454 kB)\n",
      "Requirement already satisfied: numpy<2.0,>=1.16.0 in c:\\users\\vishe\\anaconda3\\lib\\site-packages (from tensorflow) (1.16.2)\n",
      "Collecting google-pasta>=0.1.8\n",
      "  Downloading google_pasta-0.2.0-py3-none-any.whl (57 kB)\n",
      "Collecting astunparse==1.6.3\n",
      "  Downloading astunparse-1.6.3-py2.py3-none-any.whl (12 kB)\n",
      "Collecting absl-py>=0.7.0\n",
      "  Downloading absl-py-0.9.0.tar.gz (104 kB)\n",
      "Collecting gast==0.3.3\n",
      "  Downloading gast-0.3.3-py2.py3-none-any.whl (9.7 kB)\n",
      "Collecting termcolor>=1.1.0\n",
      "  Using cached termcolor-1.1.0.tar.gz (3.9 kB)\n",
      "Collecting grpcio>=1.8.6\n",
      "  Downloading grpcio-1.28.1-cp37-cp37m-win_amd64.whl (2.0 MB)\n",
      "Requirement already satisfied: wrapt>=1.11.1 in c:\\users\\vishe\\anaconda3\\lib\\site-packages (from tensorflow) (1.11.1)\n",
      "Requirement already satisfied: wheel>=0.26; python_version >= \"3\" in c:\\users\\vishe\\anaconda3\\lib\\site-packages (from tensorflow) (0.33.1)\n",
      "Requirement already satisfied: keras-preprocessing>=1.1.0 in c:\\users\\vishe\\anaconda3\\lib\\site-packages (from tensorflow) (1.1.0)\n",
      "Collecting h5py<2.11.0,>=2.10.0\n",
      "  Downloading h5py-2.10.0-cp37-cp37m-win_amd64.whl (2.5 MB)\n",
      "Collecting scipy==1.4.1; python_version >= \"3\"\n",
      "  Downloading scipy-1.4.1-cp37-cp37m-win_amd64.whl (30.9 MB)\n",
      "Requirement already satisfied: six>=1.12.0 in c:\\users\\vishe\\anaconda3\\lib\\site-packages (from tensorflow) (1.12.0)\n",
      "Requirement already satisfied: werkzeug>=0.11.15 in c:\\users\\vishe\\anaconda3\\lib\\site-packages (from tensorboard<2.3.0,>=2.2.0->tensorflow) (0.14.1)\n",
      "Collecting google-auth<2,>=1.6.3\n",
      "  Downloading google_auth-1.14.3-py2.py3-none-any.whl (89 kB)\n",
      "Collecting markdown>=2.6.8\n",
      "  Downloading Markdown-3.2.2-py3-none-any.whl (88 kB)\n",
      "Collecting setuptools>=41.0.0\n",
      "  Downloading setuptools-46.2.0-py3-none-any.whl (582 kB)\n",
      "Collecting google-auth-oauthlib<0.5,>=0.4.1\n",
      "  Downloading google_auth_oauthlib-0.4.1-py2.py3-none-any.whl (18 kB)\n",
      "Collecting tensorboard-plugin-wit>=1.6.0\n",
      "  Downloading tensorboard_plugin_wit-1.6.0.post3-py3-none-any.whl (777 kB)\n",
      "Requirement already satisfied: requests<3,>=2.21.0 in c:\\users\\vishe\\anaconda3\\lib\\site-packages (from tensorboard<2.3.0,>=2.2.0->tensorflow) (2.21.0)\n",
      "Collecting cachetools<5.0,>=2.0.0\n",
      "  Downloading cachetools-4.1.0-py3-none-any.whl (10 kB)\n",
      "Collecting pyasn1-modules>=0.2.1\n",
      "  Downloading pyasn1_modules-0.2.8-py2.py3-none-any.whl (155 kB)\n",
      "Collecting rsa<4.1,>=3.1.4\n",
      "  Downloading rsa-4.0-py2.py3-none-any.whl (38 kB)\n",
      "Requirement already satisfied: importlib-metadata; python_version < \"3.8\" in c:\\users\\vishe\\anaconda3\\lib\\site-packages (from markdown>=2.6.8->tensorboard<2.3.0,>=2.2.0->tensorflow) (0.0.0)\n",
      "Collecting requests-oauthlib>=0.7.0\n",
      "  Downloading requests_oauthlib-1.3.0-py2.py3-none-any.whl (23 kB)\n",
      "Requirement already satisfied: idna<2.9,>=2.5 in c:\\users\\vishe\\anaconda3\\lib\\site-packages (from requests<3,>=2.21.0->tensorboard<2.3.0,>=2.2.0->tensorflow) (2.8)\n",
      "Requirement already satisfied: urllib3<1.25,>=1.21.1 in c:\\users\\vishe\\anaconda3\\lib\\site-packages (from requests<3,>=2.21.0->tensorboard<2.3.0,>=2.2.0->tensorflow) (1.24.1)\n",
      "Requirement already satisfied: chardet<3.1.0,>=3.0.2 in c:\\users\\vishe\\anaconda3\\lib\\site-packages (from requests<3,>=2.21.0->tensorboard<2.3.0,>=2.2.0->tensorflow) (3.0.4)\n",
      "Requirement already satisfied: certifi>=2017.4.17 in c:\\users\\vishe\\anaconda3\\lib\\site-packages (from requests<3,>=2.21.0->tensorboard<2.3.0,>=2.2.0->tensorflow) (2020.4.5.1)\n",
      "Collecting pyasn1<0.5.0,>=0.4.6\n",
      "  Downloading pyasn1-0.4.8-py2.py3-none-any.whl (77 kB)\n",
      "Requirement already satisfied: zipp>=0.3.2 in c:\\users\\vishe\\anaconda3\\lib\\site-packages (from importlib-metadata; python_version < \"3.8\"->markdown>=2.6.8->tensorboard<2.3.0,>=2.2.0->tensorflow) (0.3.3)\n",
      "Collecting oauthlib>=3.0.0\n",
      "  Downloading oauthlib-3.1.0-py2.py3-none-any.whl (147 kB)\n",
      "Building wheels for collected packages: absl-py, termcolor\n",
      "  Building wheel for absl-py (setup.py): started\n",
      "  Building wheel for absl-py (setup.py): finished with status 'done'\n",
      "  Created wheel for absl-py: filename=absl_py-0.9.0-py3-none-any.whl size=121935 sha256=fdfc5654edeb8c6f622917a4a722fce2a5184b430ecf6fc9da67c616cc4b2450\n",
      "  Stored in directory: c:\\users\\vishe\\appdata\\local\\pip\\cache\\wheels\\cc\\af\\1a\\498a24d0730ef484019e007bb9e8cef3ac00311a672c049a3e\n",
      "  Building wheel for termcolor (setup.py): started\n",
      "  Building wheel for termcolor (setup.py): finished with status 'done'\n",
      "  Created wheel for termcolor: filename=termcolor-1.1.0-py3-none-any.whl size=4834 sha256=7622b32683cc2ef4687945a877fe19ba436fc17e1d5d8c725c0dd9fcda07c275\n",
      "  Stored in directory: c:\\users\\vishe\\appdata\\local\\pip\\cache\\wheels\\3f\\e3\\ec\\8a8336ff196023622fbcb36de0c5a5c218cbb24111d1d4c7f2\n",
      "Successfully built absl-py termcolor\n",
      "Installing collected packages: absl-py, setuptools, cachetools, pyasn1, pyasn1-modules, rsa, google-auth, markdown, oauthlib, requests-oauthlib, google-auth-oauthlib, protobuf, grpcio, tensorboard-plugin-wit, tensorboard, opt-einsum, tensorflow-estimator, google-pasta, astunparse, gast, termcolor, h5py, scipy, tensorflow\n",
      "  Attempting uninstall: setuptools\n",
      "    Found existing installation: setuptools 40.8.0\n",
      "    Uninstalling setuptools-40.8.0:\n",
      "      Successfully uninstalled setuptools-40.8.0\n",
      "  Attempting uninstall: h5py\n",
      "    Found existing installation: h5py 2.8.0\n",
      "    Uninstalling h5py-2.8.0:\n",
      "      Successfully uninstalled h5py-2.8.0\n",
      "  Attempting uninstall: scipy\n",
      "    Found existing installation: scipy 1.2.1\n",
      "    Uninstalling scipy-1.2.1:\n",
      "      Successfully uninstalled scipy-1.2.1\n"
     ]
    },
    {
     "name": "stderr",
     "output_type": "stream",
     "text": [
      "ERROR: Could not install packages due to an EnvironmentError: [WinError 5] Access is denied: 'c:\\\\users\\\\vishe\\\\anaconda3\\\\lib\\\\site-packages\\\\~cipy\\\\fftpack\\\\convolve.cp37-win_amd64.pyd'\n",
      "Consider using the `--user` option or check the permissions.\n",
      "\n",
      "WARNING: You are using pip version 20.0.2; however, version 20.1 is available.\n",
      "You should consider upgrading via the 'c:\\users\\vishe\\anaconda3\\python.exe -m pip install --upgrade pip' command.\n"
     ]
    }
   ],
   "source": [
    "!pip install tensorflow"
   ]
  },
  {
   "cell_type": "code",
   "execution_count": 44,
   "metadata": {},
   "outputs": [
    {
     "ename": "NameError",
     "evalue": "name 'tf' is not defined",
     "output_type": "error",
     "traceback": [
      "\u001b[1;31m---------------------------------------------------------------------------\u001b[0m",
      "\u001b[1;31mNameError\u001b[0m                                 Traceback (most recent call last)",
      "\u001b[1;32m<ipython-input-44-bb91edec8c09>\u001b[0m in \u001b[0;36m<module>\u001b[1;34m\u001b[0m\n\u001b[1;32m----> 1\u001b[1;33m \u001b[1;32mclass\u001b[0m \u001b[0mmyCallback\u001b[0m\u001b[1;33m(\u001b[0m\u001b[0mtf\u001b[0m\u001b[1;33m.\u001b[0m\u001b[0mkeras\u001b[0m\u001b[1;33m.\u001b[0m\u001b[0mcallbacks\u001b[0m\u001b[1;33m.\u001b[0m\u001b[0mCallback\u001b[0m\u001b[1;33m)\u001b[0m\u001b[1;33m:\u001b[0m\u001b[1;33m\u001b[0m\u001b[1;33m\u001b[0m\u001b[0m\n\u001b[0m\u001b[0;32m      2\u001b[0m    \u001b[1;32mdef\u001b[0m \u001b[0mon_epoch_end\u001b[0m\u001b[1;33m(\u001b[0m\u001b[0mself\u001b[0m\u001b[1;33m,\u001b[0m \u001b[0mepochs\u001b[0m\u001b[1;33m,\u001b[0m \u001b[0mlogs\u001b[0m\u001b[1;33m=\u001b[0m\u001b[1;33m{\u001b[0m\u001b[1;33m}\u001b[0m\u001b[1;33m)\u001b[0m\u001b[1;33m:\u001b[0m\u001b[1;33m\u001b[0m\u001b[1;33m\u001b[0m\u001b[0m\n\u001b[0;32m      3\u001b[0m        \u001b[1;32mif\u001b[0m\u001b[1;33m(\u001b[0m\u001b[0mlogs\u001b[0m\u001b[1;33m.\u001b[0m\u001b[0mget\u001b[0m\u001b[1;33m(\u001b[0m\u001b[1;34m'val_AUC'\u001b[0m\u001b[1;33m)\u001b[0m \u001b[1;33m>\u001b[0m \u001b[1;36m0.620\u001b[0m\u001b[1;33m)\u001b[0m\u001b[1;33m:\u001b[0m\u001b[1;33m\u001b[0m\u001b[1;33m\u001b[0m\u001b[0m\n\u001b[0;32m      4\u001b[0m            \u001b[0mself\u001b[0m\u001b[1;33m.\u001b[0m\u001b[0mmodel\u001b[0m\u001b[1;33m.\u001b[0m\u001b[0mstop_training\u001b[0m \u001b[1;33m=\u001b[0m \u001b[1;32mTrue\u001b[0m\u001b[1;33m\u001b[0m\u001b[1;33m\u001b[0m\u001b[0m\n\u001b[0;32m      5\u001b[0m \u001b[1;33m\u001b[0m\u001b[0m\n",
      "\u001b[1;31mNameError\u001b[0m: name 'tf' is not defined"
     ]
    }
   ],
   "source": [
    " class myCallback(tf.keras.callbacks.Callback):\n",
    "    def on_epoch_end(self, epochs, logs={}):\n",
    "        if(logs.get('val_AUC') > 0.620):\n",
    "            self.model.stop_training = True\n",
    "            \n",
    "callbacks = myCallback()\n",
    "\n",
    "model = tf.keras.models.Sequential([\n",
    "    tf.keras.layers.Input(shape=(X.shape[1],)),\n",
    "    tf.keras.layers.Dense(100, activation='relu'),\n",
    "    tf.keras.layers.Dense(10, activation='relu'),\n",
    "    tf.keras.layers.Dense(1, activation='sigmoid')\n",
    "])\n",
    "model.summary()\n",
    "\n",
    "from tensorflow.keras.optimizers import RMSprop, SGD, Adamax, Adagrad\n",
    "\n",
    "model.compile(optimizer = \"adam\", \n",
    "              loss = 'binary_crossentropy', \n",
    "              metrics = ['AUC'])\n",
    "\n",
    "history = model.fit(\n",
    "    train_new, \n",
    "    y, \n",
    "    epochs = 30, \n",
    "    validation_data = (x_val, y_val),\n",
    "    callbacks = [callbacks]\n",
    ")\n",
    "\n",
    "score = model.evaluate(x_val, y_val, verbose=1)\n",
    "\n",
    "print(\"Test Score:\", score[0])\n",
    "print(\"Test AUC:\", score[1])"
   ]
  },
  {
   "cell_type": "code",
   "execution_count": null,
   "metadata": {},
   "outputs": [],
   "source": []
  }
 ],
 "metadata": {
  "kernelspec": {
   "display_name": "Python 3",
   "language": "python",
   "name": "python3"
  },
  "language_info": {
   "codemirror_mode": {
    "name": "ipython",
    "version": 3
   },
   "file_extension": ".py",
   "mimetype": "text/x-python",
   "name": "python",
   "nbconvert_exporter": "python",
   "pygments_lexer": "ipython3",
   "version": "3.7.1"
  }
 },
 "nbformat": 4,
 "nbformat_minor": 2
}
